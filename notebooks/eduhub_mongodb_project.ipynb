{
 "cells": [
  {
   "cell_type": "code",
   "execution_count": 7,
   "id": "1d5bb326",
   "metadata": {},
   "outputs": [
    {
     "name": "stdout",
     "output_type": "stream",
     "text": [
      "Collecting pymongo\n",
      "  Using cached pymongo-4.15.2-cp312-cp312-manylinux2014_x86_64.manylinux_2_17_x86_64.manylinux_2_28_x86_64.whl.metadata (22 kB)\n",
      "Collecting faker\n",
      "  Using cached faker-37.8.0-py3-none-any.whl.metadata (15 kB)\n",
      "\u001b[33mWARNING: Retrying (Retry(total=4, connect=None, read=None, redirect=None, status=None)) after connection broken by 'ReadTimeoutError(\"HTTPSConnectionPool(host='pypi.org', port=443): Read timed out. (read timeout=15)\")': /simple/dnspython/\u001b[0m\u001b[33m\n",
      "\u001b[0mCollecting dnspython<3.0.0,>=1.16.0 (from pymongo)\n",
      "  Using cached dnspython-2.8.0-py3-none-any.whl.metadata (5.7 kB)\n",
      "Collecting tzdata (from faker)\n",
      "  Using cached tzdata-2025.2-py2.py3-none-any.whl.metadata (1.4 kB)\n",
      "Using cached pymongo-4.15.2-cp312-cp312-manylinux2014_x86_64.manylinux_2_17_x86_64.manylinux_2_28_x86_64.whl (1.7 MB)\n",
      "Using cached dnspython-2.8.0-py3-none-any.whl (331 kB)\n",
      "Using cached faker-37.8.0-py3-none-any.whl (2.0 MB)\n",
      "Using cached tzdata-2025.2-py2.py3-none-any.whl (347 kB)\n",
      "Installing collected packages: tzdata, dnspython, pymongo, faker\n",
      "\u001b[2K   \u001b[90m━━━━━━━━━━━━━━━━━━━━━━━━━━━━━━━━━━━━━━━━\u001b[0m \u001b[32m4/4\u001b[0m [faker]32m3/4\u001b[0m [faker]o]n]\n",
      "\u001b[1A\u001b[2KSuccessfully installed dnspython-2.8.0 faker-37.8.0 pymongo-4.15.2 tzdata-2025.2\n"
     ]
    }
   ],
   "source": [
    "!pip install pymongo faker"
   ]
  },
  {
   "cell_type": "code",
   "execution_count": 12,
   "id": "9c74abd1",
   "metadata": {},
   "outputs": [],
   "source": [
    "from pymongo import MongoClient\n",
    "from faker import Faker\n",
    "import random\n",
    "from datetime import datetime, timedelta \n",
    "import pandas as pd\n",
    "from bson import ObjectId\n",
    "\n"
   ]
  },
  {
   "cell_type": "markdown",
   "id": "9fddb61e",
   "metadata": {},
   "source": [
    "Task 1.1: Create Database and Collections"
   ]
  },
  {
   "cell_type": "code",
   "execution_count": 13,
   "id": "165ea3eb",
   "metadata": {},
   "outputs": [],
   "source": [
    "client = MongoClient(\"mongodb://localhost:27017/\")\n",
    "db = client[\"EduHub\"]\n",
    "\n",
    "users_collection = db[\"users\"]\n",
    "courses_collection = db[\"courses\"]\n",
    "lessons_collection = db[\"lessons\"]\n",
    "enrollments_collection = db[\"enrollments\"]\n",
    "assignments_collection = db[\"assignments\"]\n",
    "submissions_collection = db[\"submissions\"]"
   ]
  },
  {
   "cell_type": "markdown",
   "id": "e4f9553d",
   "metadata": {},
   "source": [
    "Task 1.2: Design Document Schemas"
   ]
  },
  {
   "cell_type": "code",
   "execution_count": 14,
   "id": "350917b9",
   "metadata": {},
   "outputs": [],
   "source": [
    "# user data \n",
    "user = [\n",
    "    {\n",
    "        \"_id\": ObjectId (),\n",
    "        \"userId\": \"string (unique)\",\n",
    "        \"email\": \"string (unique, required)\",\n",
    "        \"firstName\": \"string (required)\",\n",
    "        \"lastName\": \"string (required)\",\n",
    "        \"role\": \"(enum: ['student', 'instructor'])\",\n",
    "        \"dateJoined\": \"datetime\",\n",
    "        \"profile\": {\n",
    "            \"bio\": \"string\",\n",
    "            \"avatar\": \"string\",\n",
    "            \"skills\": [\"string\"]\n",
    "        },\n",
    "        \"is_active\": True\n",
    "    }\n",
    "]"
   ]
  },
  {
   "cell_type": "markdown",
   "id": "e9c450fe",
   "metadata": {},
   "source": [
    "Part 2: Data Population"
   ]
  },
  {
   "cell_type": "code",
   "execution_count": 15,
   "id": "d2e228c1",
   "metadata": {},
   "outputs": [
    {
     "name": "stdout",
     "output_type": "stream",
     "text": [
      "Inserted 20 documents\n"
     ]
    }
   ],
   "source": [
    "#user data schema \n",
    "fake = Faker()\n",
    "\n",
    "# Adding students and instructors programmatically\n",
    "\n",
    "firstname = [\"Adams\", \"John\", \"Cooper\", \"Doe\", \"Jane\", \"Smith\", \"Emily\", \"Johnson\", \"Oladele\", \"Michael\", \"Brown\", \"Sarah\", \"Williams\", \"David\", \"Adebayo\", \"Bamidele\",\"Jones\", \"Linda\", \"Miller\", \"James\"]\n",
    "\n",
    "lastname = [\"Ruth\", \"Alice\", \"Davis\", \"Robert\", \"Mary\", \"Grace\", \"Patricia\", \"Martinez\", \"Jennifer\", \"Pelumi\", \"Elizabeth\", \"Betrice\", \"Barbara\", \"John\", \"Susan\", \"Wilson\",\"Jessica\", \"Anderson\", \"Sarah\", \"Thomas\"]\n",
    "\n",
    "\n",
    "\n",
    "skills = [\"mathematics\", \"programming\", \"python\", \"sql\", \"excel\", \"analysis\"]\n",
    "\n",
    "users = []\n",
    "\n",
    "for i in range(20):  # Adding 15 sample students and 5 instructors \n",
    "    user = {\n",
    "        \"_id\" : ObjectId(), \n",
    "        \"userId\": f\"user_{i + 1}\",\n",
    "        \"firstname\": random.choice(firstname),\n",
    "        \"lastname\": random.choice(lastname),\n",
    "        \"role\": \"student\" if i < 15 else \"instructor\",\n",
    "        \"dateJoined\": datetime.now() - timedelta(days=random.randint(0, 500)),\n",
    "        \"profile\": {\n",
    "            \"bio\": fake.text(max_nb_chars=200),\n",
    "            \"avatar\": fake.image_url(),\n",
    "            \"skills\": random.sample(skills, random.randint(1, 5))\n",
    "        },\n",
    "        \"is_active\": random.choice([True, True, False])\n",
    "    }\n",
    "    email = f\"{user['firstname'].lower()}.{user['lastname'].lower()}@eduhub.com\" if user[\"role\"] == \"student\" \\\n",
    "        else f\"{user['firstname'].lower()}.{user['lastname'].lower()}@instructor.eduhub.com\"\n",
    "    user[\"email\"] = email\n",
    "    users.append(user)\n",
    "\n",
    "#Insert users in users document collection \n",
    "\n",
    "def insert_many_documents(collection, documents):\n",
    "    try:\n",
    "        result = collection.insert_many(documents)\n",
    "        return result.inserted_ids\n",
    "    except Exception as e:\n",
    "        print(f\"An error occurred: {e}\")\n",
    "        return []\n",
    "\n",
    "result = insert_many_documents(users_collection, users)\n",
    "print(f\"Inserted {len(result)} documents\")"
   ]
  },
  {
   "cell_type": "code",
   "execution_count": 16,
   "id": "60cf48a8",
   "metadata": {},
   "outputs": [
    {
     "name": "stdout",
     "output_type": "stream",
     "text": [
      "Inserted 8 documents into course_collection\n"
     ]
    }
   ],
   "source": [
    "# Course Data\n",
    "course = [\n",
    "    {\"title\": \"Python\", \"category\": \"Programming\", \"tags\": [\"Python\", \"Programming\"], \"courseId\": \"PYT\"},\n",
    "    {\"title\": \"MongoDB\", \"category\": \"Database\", \"tags\": [\"Python\", \"Database\"], \"courseId\": \"EXL\"},\n",
    "    {\"title\": \"JavaScript\", \"category\": \"Programming\", \"tags\": [\"JavaScript\", \"Programming\"], \"courseId\": \"JSC\"},\n",
    "    {\"title\": \"Data Science\", \"category\": \"Data\", \"tags\": [\"Python\", \"Data\"], \"courseId\": \"DSI\"},\n",
    "    {\"title\": \"Data Engineering\", \"category\": \"Data\", \"tags\": [\"Python\", \"Programming\"], \"courseId\": \"DEG\"},\n",
    "    {\"title\": \"Data Visualization\", \"category\": \"Data\", \"tags\": [\"Python\", \"Programming\"], \"courseId\": \"DVI\"},\n",
    "    {\"title\": \"SQL\",\"category\": \"Database\", \"tags\": [\"SQL\", \"Database\"], \"courseId\": \"SQL\"},\n",
    "    {\"title\": \"Data Analysis\", \"category\": \"Data\", \"tags\": [\"Excel\", \"Analysis\"], \"courseId\": \"DAS\"}\n",
    "]\n",
    "\n",
    "\n",
    "\n",
    "instructor = [u for u in users if u['role'] == 'instructor']\n",
    "\n",
    "courses = []\n",
    "\n",
    "\n",
    "for item in course:\n",
    "\n",
    "    instructorId = random.choice(instructor)[\"userId\"]\n",
    "\n",
    "    course_data = {\n",
    "        \"_id\": ObjectId(),\n",
    "        \"courseId\": item[\"courseId\"],\n",
    "        \"title\": item[\"title\"],\n",
    "        \"description\": f\"Learn {item['title']} from scratch\",\n",
    "        \"instructorId\": instructorId,\n",
    "        \"category\": item[\"category\"],\n",
    "        \"level\": random.choice([\"beginner\", \"intermediate\", \"advanced\"]),\n",
    "        \"duration\": random.randint(5, 10) * 7 * 24, # duration in hours\n",
    "        \"tags\": item[\"tags\"],\n",
    "        \"price\": random.randint(50, 300),\n",
    "        \"createdAt\": datetime.now(),\n",
    "        \"updatedAt\": datetime.now(),\n",
    "        \"isPublished\": random.choice([True, False])\n",
    "    }\n",
    "    courses.append(course_data)\n",
    "\n",
    "\n",
    "result = insert_many_documents(courses_collection, courses)\n",
    "print(f\"Inserted {len(result)} documents into course_collection\")"
   ]
  },
  {
   "cell_type": "code",
   "execution_count": 17,
   "id": "f6a711ce",
   "metadata": {},
   "outputs": [
    {
     "name": "stdout",
     "output_type": "stream",
     "text": [
      "Inserted 25 documents into lessons_collection\n"
     ]
    }
   ],
   "source": [
    "# lessons data\n",
    "lessons = []\n",
    "\n",
    "instructors = [u for u in users if u['role'] == 'instructor']\n",
    "\n",
    "while len(lessons) < 25:\n",
    "\n",
    "    instructorId = random.choice(instructors)[\"userId\"]\n",
    "\n",
    "    course = courses_collection.find_one({\"instructorId\": instructorId})\n",
    "\n",
    "    if not course:\n",
    "        continue\n",
    "        \n",
    "    lesson_data = {\n",
    "        \"_id\": ObjectId(),\n",
    "        \"lessonId\": f\"lesson_{random.randint(100, 500)}\",\n",
    "        \"chapter\": f\"Chapter {random.randint(1, 20)}\",\n",
    "        \"description\": f\"Lesson on {course['title']}\",\n",
    "        \"courseId\": course[\"courseId\"],\n",
    "        \"instructorId\": instructorId,\n",
    "        \"duration\": course['duration'] // (random.randint(1, 3) * 7 * 24) if course['duration'] > 0 else 1,\n",
    "        \"createdAt\": datetime.now(),\n",
    "        \"updatedAt\": datetime.now()\n",
    "    }\n",
    "    lessons.append(lesson_data)\n",
    "\n",
    "\n",
    "result = insert_many_documents(lessons_collection, lessons)\n",
    "print(f\"Inserted {len(result)} documents into lessons_collection\")"
   ]
  },
  {
   "cell_type": "code",
   "execution_count": 18,
   "id": "bea29023",
   "metadata": {},
   "outputs": [
    {
     "name": "stdout",
     "output_type": "stream",
     "text": [
      "Inserted 15 documents into enrollments_collection\n"
     ]
    }
   ],
   "source": [
    "# Enrollments collection creation \n",
    "students = [u for u in users if u['role'] == 'student']\n",
    "\n",
    "enrollments = []\n",
    "\n",
    "for i in range(15):\n",
    "\n",
    "    course = courses_collection.find_one({\"instructorId\": instructorId})\n",
    "\n",
    "    enrollment_data = {\n",
    "        \"_id\": ObjectId(),\n",
    "        \"enrollmentId\": f\"{i:04d}\",\n",
    "        \"courseId\": random.choice(courses)[\"courseId\"],\n",
    "        \"studentId\": random.choice(students)[\"userId\"],\n",
    "        \"startDate\": datetime.now(),\n",
    "        \"endDate\": datetime.now() + timedelta(hours=course[\"duration\"])\n",
    "    }\n",
    "    enrollments.append(enrollment_data)\n",
    "\n",
    "result = insert_many_documents(enrollments_collection, enrollments)\n",
    "print(f\"Inserted {len(result)} documents into enrollments_collection\")"
   ]
  },
  {
   "cell_type": "code",
   "execution_count": 19,
   "id": "ad780604",
   "metadata": {},
   "outputs": [
    {
     "name": "stdout",
     "output_type": "stream",
     "text": [
      "Inserted 10 documents into assignments_collection\n"
     ]
    }
   ],
   "source": [
    "# Assignments \n",
    "\n",
    "assignments = []\n",
    "\n",
    "for i in range(10):\n",
    "\n",
    "    assignment_data = {\n",
    "        \"_id\": ObjectId(),\n",
    "        \"assignmentId\": f\"a_{i:04d}\",\n",
    "        \"dueDate\": datetime.now() + timedelta(days=random.randint(1, 20)),\n",
    "        \"lessonId\": random.choice(lessons)[\"lessonId\"],\n",
    "        \"courseId\": random.choice(courses)[\"courseId\"],\n",
    "        \"description\": f\"Complete the assignment for {random.choice(courses)['title']}\",\n",
    "        \"grades\": {student[\"userId\"]: random.randint(50, 100) for student in students}\n",
    "    }\n",
    "    assignments.append(assignment_data)\n",
    "\n",
    "\n",
    "\n",
    "result = insert_many_documents(assignments_collection, assignments)\n",
    "print(f\"Inserted {len(result)} documents into assignments_collection\")\n"
   ]
  },
  {
   "cell_type": "code",
   "execution_count": 20,
   "id": "493546e5",
   "metadata": {},
   "outputs": [
    {
     "name": "stdout",
     "output_type": "stream",
     "text": [
      "Inserted 12 documents into submissions_collection\n"
     ]
    }
   ],
   "source": [
    "# Submissions 12\n",
    "\n",
    "submissions = []\n",
    "\n",
    "for i in range(12):\n",
    "    \n",
    "    submission_data = {\n",
    "        \"_Id\": ObjectId(),\n",
    "        \"assignmentId\": random.choice(assignments)[\"assignmentId\"],\n",
    "        \"studentId\": random.choice(students)[\"userId\"],\n",
    "        \"description\": f\"Submission for {random.choice(assignments)['assignmentId']}\",\n",
    "        \"submissionDate\": datetime.now() - timedelta(days=random.randint(0, 10)),\n",
    "        \"isSubmitted\": random.choice([True, False])\n",
    "    }\n",
    "    submissions.append(submission_data)\n",
    "\n",
    "result = insert_many_documents(submissions_collection, submissions)\n",
    "print(f\"Inserted {len(result)} documents into submissions_collection\")"
   ]
  },
  {
   "cell_type": "markdown",
   "id": "b6a5db49",
   "metadata": {},
   "source": [
    "Part 3: Basic CRUD Operations (25 points)\n",
    "Task 3.1: Create Operations\n",
    "\n",
    "Write Python code using PyMongo to:\n",
    "\n",
    "    Add a new student user\n",
    "    Create a new course\n",
    "    Enroll a student in a course\n",
    "    Add a new lesson to an existing course\n"
   ]
  },
  {
   "cell_type": "code",
   "execution_count": 21,
   "id": "2b0927fa",
   "metadata": {},
   "outputs": [
    {
     "name": "stdout",
     "output_type": "stream",
     "text": [
      "Inserted 68de2b01de87aa09a1f6bafa document\n"
     ]
    }
   ],
   "source": [
    "#Add a new student \n",
    "\n",
    "user = {\n",
    "        \"_id\" : ObjectId(), \n",
    "        \"userId\": f\"user_{users_collection.count_documents({}) + 1}\",\n",
    "        \"firstname\": \"Mayowa\",\n",
    "        \"lastname\": \"Williams\",\n",
    "        \"role\": \"student\",\n",
    "        \"dateJoined\": datetime.now(),\n",
    "        \"profile\": {\n",
    "            \"bio\": fake.text(max_nb_chars=200),\n",
    "            \"avatar\": fake.image_url(),\n",
    "            \"skills\": random.sample(skills, random.randint(1, 3))\n",
    "        },\n",
    "        \"is_active\": True\n",
    "    }\n",
    "email = f\"{user['firstname'].lower()}.{user['lastname'].lower()}@example.com\"\n",
    "user[\"email\"] = email\n",
    "    \n",
    "\n",
    "def insert_one(collection, document):\n",
    "    try:\n",
    "        result = collection.insert_one(document)\n",
    "        return result.inserted_id\n",
    "    except Exception as e:\n",
    "        print(f\"An error occurred: {e}\")\n",
    "        return None\n",
    "\n",
    "result = insert_one(users_collection, user)\n",
    "print(f\"Inserted {result} document\")"
   ]
  },
  {
   "cell_type": "code",
   "execution_count": 22,
   "metadata": {},
   "outputs": [
    {
     "name": "stdout",
     "output_type": "stream",
     "text": [
      "Inserted 68de2b02de87aa09a1f6bafb document into course_collection\n"
     ]
    }
   ],
   "source": [
    "#Create a new course \n",
    "course = [\n",
    "    {\"title\": \"Go\", \"category\": \"Programming\", \"tags\": [\"Go\", \"Programming\"], \"courseId\": \"GOT\"},\n",
    "]\n",
    "\n",
    "instructor = [u for u in users if u['role'] == 'instructor']\n",
    "\n",
    "\n",
    "for item in course:\n",
    "\n",
    "    instructorId = random.choice(instructor)[\"userId\"]\n",
    "\n",
    "    course_data = {\n",
    "        \"_id\": ObjectId(),\n",
    "        \"courseId\": item[\"courseId\"],\n",
    "        \"title\": item[\"title\"],\n",
    "        \"description\": f\"Learn {item['title']} from scratch\",\n",
    "        \"instructorId\": instructorId,\n",
    "        \"category\": item[\"category\"],\n",
    "        \"level\": random.choice([\"beginner\", \"intermediate\", \"advanced\"]),\n",
    "        \"duration\": random.randint(2, 5) * 7 * 24, # duration in hours\n",
    "        \"tags\": item[\"tags\"],\n",
    "        \"price\": random.randint(50, 300),\n",
    "        \"createdAt\": datetime.now(),\n",
    "        \"updatedAt\": datetime.now(),\n",
    "        \"isPublished\": random.choice([True, False])\n",
    "    }\n",
    "\n",
    "\n",
    "result = insert_one(courses_collection, course_data)\n",
    "print(f\"Inserted {result} document into course_collection\")"
   ]
  },
  {
   "cell_type": "code",
   "execution_count": 23,
   "metadata": {},
   "outputs": [
    {
     "name": "stdout",
     "output_type": "stream",
     "text": [
      "Inserted 68de2b03de87aa09a1f6bafc document into enrollments_collection\n"
     ]
    }
   ],
   "source": [
    "#Enroll the new student in an existing course\n",
    "new_student = users_collection.find_one({\"firstname\": \"Mayowa\", \"lastname\": \"Williams\"})\n",
    "existing_course = courses_collection.find_one({\"title\": \"Python\"}) \n",
    " \n",
    "if new_student and existing_course:\n",
    "    enrollment_data = {\n",
    "        \"_id\": ObjectId(),\n",
    "        \"enrollmentId\": f\"{enrollments_collection.count_documents({}) + 1:04d}\",\n",
    "        \"courseId\": existing_course[\"courseId\"],\n",
    "        \"studentId\": new_student[\"userId\"],\n",
    "        \"startDate\": datetime.now(),\n",
    "        \"endDate\": datetime.now() + timedelta(hours=existing_course[\"duration\"])\n",
    "    }\n",
    "    \n",
    "result = insert_one(enrollments_collection, enrollment_data)\n",
    "print(f\"Inserted {result} document into enrollments_collection\")"
   ]
  },
  {
   "cell_type": "code",
   "execution_count": 24,
   "metadata": {},
   "outputs": [
    {
     "name": "stdout",
     "output_type": "stream",
     "text": [
      "Inserted 68de2b04de87aa09a1f6bafd document into lessons_collection\n"
     ]
    }
   ],
   "source": [
    "#Add a new lesson to an existing course\n",
    "course = courses_collection.find_one({\"title\": \"Go\"})\n",
    "\n",
    "if course:\n",
    "    lesson_data = {\n",
    "        \"_id\": ObjectId(),\n",
    "        \"lessonId\": f\"lesson_{lessons_collection.count_documents({}) + 1}\",\n",
    "        \"courseId\": course[\"courseId\"],\n",
    "        \"title\": \"Introduction to Go\",\n",
    "        \"content\": \"This is the content of the lesson.\",\n",
    "        \"duration\": course['duration'] // (random.randint(1, 2) * 7 * 24) if course['duration'] > 0 else 1,\n",
    "        \"createdAt\": datetime.now(),\n",
    "        \"updatedAt\": datetime.now()\n",
    "    }\n",
    "\n",
    "result = insert_one(lessons_collection, lesson_data)\n",
    "print(f\"Inserted {result} document into lessons_collection\")"
   ]
  },
  {
   "cell_type": "markdown",
   "id": "6361e15a",
   "metadata": {},
   "source": [
    "Task 3.2: Read Operations\n",
    "\n",
    "Write Python queries to:\n",
    "\n",
    "    Find all active students\n",
    "    Retrieve course details with instructor information\n",
    "    Get all courses in a specific category\n",
    "    Find students enrolled in a particular course\n",
    "    Search courses by title (case-insensitive, partial match)\n",
    "\n"
   ]
  },
  {
   "cell_type": "code",
   "execution_count": 25,
   "metadata": {},
   "outputs": [
    {
     "name": "stdout",
     "output_type": "stream",
     "text": [
      "{'_id': ObjectId('68de2afade87aa09a1f6ba96'), 'userId': 'user_3', 'firstname': 'Miller', 'lastname': 'Grace', 'role': 'student', 'dateJoined': datetime.datetime(2024, 6, 25, 8, 34, 18, 828000), 'profile': {'bio': 'Society them central word. More student fine require artist.\\nWho six news. Rest kind relationship teacher technology consumer.', 'avatar': 'https://picsum.photos/200/76', 'skills': ['programming', 'sql']}, 'is_active': True, 'email': 'miller.grace@eduhub.com'}\n",
      "{'_id': ObjectId('68de2afade87aa09a1f6ba98'), 'userId': 'user_5', 'firstname': 'Linda', 'lastname': 'Robert', 'role': 'student', 'dateJoined': datetime.datetime(2025, 1, 15, 8, 34, 18, 832000), 'profile': {'bio': 'Heavy skill ok again feel. Leave cause shoulder must wish evening. Trade yeah red fund small animal investment increase.', 'avatar': 'https://placekitten.com/17/440', 'skills': ['analysis', 'python', 'programming', 'sql']}, 'is_active': True, 'email': 'linda.robert@eduhub.com'}\n",
      "{'_id': ObjectId('68de2afade87aa09a1f6ba99'), 'userId': 'user_6', 'firstname': 'Emily', 'lastname': 'Alice', 'role': 'student', 'dateJoined': datetime.datetime(2025, 5, 3, 8, 34, 18, 833000), 'profile': {'bio': 'As able Congress particular officer end.\\nStuff oil dog dog know. Movie through day campaign we from.\\nToo room radio thank. Law citizen child son institution. Fine idea without money return.', 'avatar': 'https://dummyimage.com/74x647', 'skills': ['programming', 'sql', 'excel', 'python']}, 'is_active': True, 'email': 'emily.alice@eduhub.com'}\n",
      "{'_id': ObjectId('68de2afade87aa09a1f6ba9a'), 'userId': 'user_7', 'firstname': 'Adams', 'lastname': 'Susan', 'role': 'student', 'dateJoined': datetime.datetime(2024, 9, 14, 8, 34, 18, 834000), 'profile': {'bio': 'Middle foreign authority early standard. Player artist fly determine last leg. Despite heart instead. Imagine blue school.', 'avatar': 'https://placekitten.com/474/446', 'skills': ['analysis', 'python']}, 'is_active': True, 'email': 'adams.susan@eduhub.com'}\n",
      "{'_id': ObjectId('68de2afade87aa09a1f6ba9b'), 'userId': 'user_8', 'firstname': 'Miller', 'lastname': 'Sarah', 'role': 'student', 'dateJoined': datetime.datetime(2025, 6, 9, 8, 34, 18, 836000), 'profile': {'bio': 'Million carry together my. International world generation run.\\nStock social beat main would stage. Five receive beat eye fear.\\nCity do body test plan bit foreign. Thought thing if money. All go eat.', 'avatar': 'https://placekitten.com/365/60', 'skills': ['mathematics', 'sql', 'programming', 'python']}, 'is_active': True, 'email': 'miller.sarah@eduhub.com'}\n",
      "{'_id': ObjectId('68de2afade87aa09a1f6ba9f'), 'userId': 'user_12', 'firstname': 'Sarah', 'lastname': 'Alice', 'role': 'student', 'dateJoined': datetime.datetime(2025, 4, 25, 8, 34, 18, 838000), 'profile': {'bio': 'Trouble simple garden newspaper. Say serve security marriage ask hospital. Street popular ago have likely sport degree amount.', 'avatar': 'https://picsum.photos/105/407', 'skills': ['excel', 'mathematics', 'python']}, 'is_active': True, 'email': 'sarah.alice@eduhub.com'}\n",
      "{'_id': ObjectId('68de2b01de87aa09a1f6bafa'), 'userId': 'user_21', 'firstname': 'Mayowa', 'lastname': 'Williams', 'role': 'student', 'dateJoined': datetime.datetime(2025, 10, 2, 8, 34, 25, 301000), 'profile': {'bio': 'Or draw hold even. Control nature threat rest newspaper all appear. Best stage power society several.\\nFamily science middle. Language occur case house wife product article occur.', 'avatar': 'https://dummyimage.com/907x640', 'skills': ['python']}, 'is_active': True, 'email': 'mayowa.williams@example.com'}\n"
     ]
    }
   ],
   "source": [
    "#find all active students\n",
    "from pymongo import MongoClient\n",
    "client = MongoClient(\"mongodb://localhost:27017/\")\n",
    "db = client[\"EduHub\"]\n",
    "users_collection =  db[\"users\"]\n",
    "\n",
    "active_students = users_collection.find({\"role\": \"student\", \"is_active\": True})\n",
    "\n",
    "for i in active_students:\n",
    "    print(i)\n"
   ]
  },
  {
   "cell_type": "code",
   "execution_count": 26,
   "id": "ed6f16a1",
   "metadata": {},
   "outputs": [
    {
     "name": "stdout",
     "output_type": "stream",
     "text": [
      "Instructor: Cooper Jennifer\n",
      " - Course: Data Science (ID: DSI)\n",
      "\n",
      "\n",
      "Instructor: Doe Thomas\n",
      " - Course: Data Engineering (ID: DEG)\n",
      "\n",
      "\n",
      "Instructor: James Robert\n",
      " - Course: Python (ID: PYT)\n",
      " - Course: SQL (ID: SQL)\n",
      "\n",
      "\n",
      "Instructor: James Jessica\n",
      " - Course: Data Analysis (ID: DAS)\n",
      "\n",
      "\n",
      "Instructor: Doe Davis\n",
      " - Course: MongoDB (ID: EXL)\n",
      " - Course: JavaScript (ID: JSC)\n",
      " - Course: Data Visualization (ID: DVI)\n",
      " - Course: Go (ID: GOT)\n",
      "\n",
      "\n"
     ]
    }
   ],
   "source": [
    "#List all courses taught by a specific instructor\n",
    "\n",
    "# connect the instructorid to the users_collection to \n",
    "instructors = list(users_collection.find({\"role\": \"instructor\"}))\n",
    "\n",
    "#   get the instructor details and  match the instructorId with the courses_collection to get the courses taught by the instructor\n",
    "\n",
    "for instructor in instructors:\n",
    "    instructorId = instructor[\"userId\"]\n",
    "    courses_taught = list(courses_collection.find({\"instructorId\": instructorId}))\n",
    "    print(f\"Instructor: {instructor['firstname']} {instructor['lastname']}\")\n",
    "    for course in courses_taught:\n",
    "        print(f\" - Course: {course['title']} (ID: {course['courseId']})\")\n",
    "    print(\"\\n\")\n"
   ]
  },
  {
   "cell_type": "code",
   "execution_count": 27,
   "metadata": {},
   "outputs": [
    {
     "name": "stdout",
     "output_type": "stream",
     "text": [
      "Course: Data Science (ID: DSI) - Category: Data\n",
      "Course: Data Engineering (ID: DEG) - Category: Data\n",
      "Course: Data Visualization (ID: DVI) - Category: Data\n",
      "Course: Data Analysis (ID: DAS) - Category: Data\n"
     ]
    }
   ],
   "source": [
    "#get all courses in a specific category\n",
    "category = \"Data\"\n",
    "category_courses = list(courses_collection.find({\"category\": category}))\n",
    "\n",
    "for course in category_courses:\n",
    "    print(f\"Course: {course['title']} (ID: {course['courseId']}) - Category: {course['category']}\")"
   ]
  },
  {
   "cell_type": "code",
   "execution_count": 28,
   "id": "203076cb",
   "metadata": {},
   "outputs": [
    {
     "name": "stdout",
     "output_type": "stream",
     "text": [
      "Student: Sarah Alice is enrolled in Course: Python (ID: PYT)\n",
      "Student: Adams Susan is enrolled in Course: Python (ID: PYT)\n",
      "Student: Mayowa Williams is enrolled in Course: Python (ID: PYT)\n"
     ]
    }
   ],
   "source": [
    "#find student enrolled in a particular course \n",
    "\n",
    "# Find the Python course \n",
    "course = courses_collection.find_one({\"title\": \"Python\"})\n",
    "if course:\n",
    "    # Get all enrollments for the course\n",
    "    enrollments = list(enrollments_collection.find({\"courseId\": course[\"courseId\"]}))\n",
    "\n",
    "    # Step 3: Print results\n",
    "    for enrollment in enrollments:\n",
    "        student = users_collection.find_one({\"userId\": enrollment[\"studentId\"]})\n",
    "        if student:\n",
    "            print(f\"Student: {student['firstname']} {student['lastname']} \"\n",
    "                  f\"is enrolled in Course: {course['title']} (ID: {course['courseId']})\")\n"
   ]
  },
  {
   "cell_type": "code",
   "execution_count": 29,
   "id": "58d53382",
   "metadata": {},
   "outputs": [
    {
     "name": "stdout",
     "output_type": "stream",
     "text": [
      "Course: MongoDB (ID: EXL) - Category: Database\n",
      "Course: Go (ID: GOT) - Category: Programming\n"
     ]
    }
   ],
   "source": [
    "#search courses by title (case insensitive, partial match)\n",
    "search_term = \"go\"\n",
    "matching_courses = list(courses_collection.find({\"title\": {\"$regex\": search_term, \"$options\": \"i\"}}))\n",
    "\n",
    "for course in matching_courses:\n",
    "    print(f\"Course: {course['title']} (ID: {course['courseId']}) - Category: {course['category']}\")"
   ]
  },
  {
   "cell_type": "markdown",
   "id": "53474a5f",
   "metadata": {},
   "source": [
    "Task 3.3: Update Operations\n",
    "\n",
    "Write Python code to:\n",
    "\n",
    "    Update a user’s profile information\n",
    "    Mark a course as published\n",
    "    Update assignment grades\n",
    "    Add tags to an existing course\n",
    "\n",
    "\n"
   ]
  },
  {
   "cell_type": "code",
   "execution_count": 30,
   "id": "3fde4374",
   "metadata": {},
   "outputs": [
    {
     "name": "stdout",
     "output_type": "stream",
     "text": [
      "Updated 1 document(s) for user Mayowa Williams\n"
     ]
    }
   ],
   "source": [
    "#update a user profile information \n",
    "user = users_collection.find_one({\"firstname\": \"Mayowa\", \"lastname\": \"Williams\"})\n",
    "if user:\n",
    "    updated_profile = {\n",
    "        \"bio\": \"Updated bio for Mayowa\",\n",
    "        \"avatar\": \"https://new-avatar-url.com/avatar.jpg\",\n",
    "        \"skills\": [\"Python\", \"Data Analysis\", \"Machine Learning\"]\n",
    "    }\n",
    "    result = users_collection.update_one(\n",
    "        {\"userId\": user[\"userId\"]},\n",
    "        {\"$set\": {\"profile\": updated_profile, \"is_active\": True}}\n",
    "    )\n",
    "    print(f\"Updated {result.modified_count} document(s) for user {user['firstname']} {user['lastname']}\")"
   ]
  },
  {
   "cell_type": "code",
   "execution_count": 31,
   "id": "02871968",
   "metadata": {},
   "outputs": [
    {
     "name": "stdout",
     "output_type": "stream",
     "text": [
      "Marked course 'Go' as published. Updated 1 document(s).\n"
     ]
    }
   ],
   "source": [
    "#mark a course as published\n",
    "course = courses_collection.find_one({\"title\": \"Go\"})\n",
    "if course:\n",
    "    result = courses_collection.update_one(\n",
    "        {\"courseId\": course[\"courseId\"]},\n",
    "        {\"$set\": {\"isPublished\": True, \"updatedAt\": datetime.now()}}\n",
    "    )\n",
    "    print(f\"Marked course '{course['title']}' as published. Updated {result.modified_count} document(s).\")"
   ]
  },
  {
   "cell_type": "code",
   "execution_count": 32,
   "metadata": {},
   "outputs": [
    {
     "name": "stdout",
     "output_type": "stream",
     "text": [
      "Updated grades for assignment 'a_0001'. Modified 1 document(s).\n"
     ]
    }
   ],
   "source": [
    "#update assignments grades\n",
    "assignment = assignments_collection.find_one({\"assignmentId\": \"a_0001\"})\n",
    "if assignment:\n",
    "    updated_grades = assignment[\"grades\"]\n",
    "    # Update grades for a specific student\n",
    "    updated_grades[\"user_1\"] = 95  # Assuming user_1 is a valid studentId\n",
    "\n",
    "    result = assignments_collection.update_one(\n",
    "        {\"assignmentId\": assignment[\"assignmentId\"]},\n",
    "        {\"$set\": {\"grades\": updated_grades}}\n",
    "    )\n",
    "    print(f\"Updated grades for assignment '{assignment['assignmentId']}'. Modified {result.modified_count} document(s).\")"
   ]
  },
  {
   "cell_type": "code",
   "execution_count": 33,
   "metadata": {},
   "outputs": [
    {
     "name": "stdout",
     "output_type": "stream",
     "text": [
      "Added new tag to course 'Go'. Updated 1 document(s).\n"
     ]
    }
   ],
   "source": [
    "#add tage to an existing course\n",
    "course = courses_collection.find_one({\"title\": \"Go\"})\n",
    "if course:\n",
    "    updated_tags = course[\"tags\"]\n",
    "    updated_tags.append(\"Backend\")  # Adding a new tag\n",
    "\n",
    "    result = courses_collection.update_one(\n",
    "        {\"courseId\": course[\"courseId\"]},\n",
    "        {\"$set\": {\"tags\": updated_tags}}\n",
    "    )\n",
    "    print(f\"Added new tag to course '{course['title']}'. Updated {result.modified_count} document(s).\")"
   ]
  },
  {
   "cell_type": "markdown",
   "id": "9a789db3",
   "metadata": {},
   "source": [
    "Task 3.4: Delete Operations\n",
    "\n",
    "Write Python code to:\n",
    "\n",
    "    Remove a user (soft delete by setting isActive to false)\n",
    "    Delete an enrollment\n",
    "    Remove a lesson from a course"
   ]
  },
  {
   "cell_type": "code",
   "execution_count": 34,
   "id": "7e1a136c",
   "metadata": {},
   "outputs": [
    {
     "name": "stdout",
     "output_type": "stream",
     "text": [
      "Removed user 'user_3'. Updated 1 document(s).\n"
     ]
    }
   ],
   "source": [
    "#remove a user \n",
    "user = users_collection.find_one({\"is_active\": True, \"role\": \"student\"})\n",
    "update_time = datetime.now()\n",
    "if user:\n",
    "    result = users_collection.update_one(\n",
    "        {\"userId\": user[\"userId\"]},\n",
    "        {\"$set\": {\"is_active\": False, \"updatedAt\": update_time}}\n",
    "    )\n",
    "    print(f\"Removed user '{user['userId']}'. Updated {result.modified_count} document(s).\")\n",
    "\n"
   ]
  },
  {
   "cell_type": "code",
   "execution_count": 35,
   "id": "9b9a7512",
   "metadata": {},
   "outputs": [
    {
     "name": "stdout",
     "output_type": "stream",
     "text": [
      "Deleted enrollment '0000'. Deleted 1 document(s).\n"
     ]
    }
   ],
   "source": [
    "#delete an enrollement record\n",
    "enrollment = enrollments_collection.find_one()\n",
    "if enrollment:\n",
    "    result = enrollments_collection.delete_one({\"enrollmentId\": enrollment[\"enrollmentId\"]})\n",
    "    print(f\"Deleted enrollment '{enrollment['enrollmentId']}'. Deleted {result.deleted_count} document(s).\")\n",
    "    "
   ]
  },
  {
   "cell_type": "code",
   "execution_count": 36,
   "metadata": {},
   "outputs": [
    {
     "name": "stdout",
     "output_type": "stream",
     "text": [
      "Deleted lesson 'lesson_486' in MongoDB course. Deleted 1 document(s).\n"
     ]
    }
   ],
   "source": [
    "#remove a lesson from course\n",
    "lesson = lessons_collection.find_one()\n",
    "course = courses_collection.find_one({\"courseId\": lesson[\"courseId\"]}) \n",
    "if course:\n",
    "    result = lessons_collection.delete_one({\"lessonId\": lesson[\"lessonId\"]})\n",
    "    print(f\"Deleted lesson '{lesson['lessonId']}' in {course['title']} course. Deleted {result.deleted_count} document(s).\")\n",
    "\n",
    "else: None"
   ]
  },
  {
   "cell_type": "markdown",
   "id": "6d6c2a54",
   "metadata": {},
   "source": [
    "Task 4.1: Complex Queries\n",
    "\n",
    "Write Python code using various PyMongo operators:\n",
    "\n",
    "    Find courses with price between $50 and $200\n",
    "    Get users who joined in the last 6 months\n",
    "    Find courses that have specific tags using $in operator\n",
    "    Retrieve assignments with due dates in the next week\n",
    "\n"
   ]
  },
  {
   "cell_type": "code",
   "execution_count": 37,
   "id": "72ab91dd",
   "metadata": {},
   "outputs": [
    {
     "name": "stdout",
     "output_type": "stream",
     "text": [
      "Course: Python (ID: PYT) - Price: $191\n",
      "Course: MongoDB (ID: EXL) - Price: $192\n",
      "Course: JavaScript (ID: JSC) - Price: $142\n",
      "Course: Data Science (ID: DSI) - Price: $106\n",
      "Course: Data Engineering (ID: DEG) - Price: $69\n",
      "Course: Data Visualization (ID: DVI) - Price: $132\n",
      "Course: SQL (ID: SQL) - Price: $198\n",
      "Course: Data Analysis (ID: DAS) - Price: $123\n",
      "Course: Go (ID: GOT) - Price: $157\n"
     ]
    }
   ],
   "source": [
    "#find courses with prices between $50 and $200\n",
    "courses_in_price_range = list(courses_collection.find({\"price\": {\"$gte\": 50, \"$lte\": 200}}))\n",
    "for course in courses_in_price_range:\n",
    "    print(f\"Course: {course['title']} (ID: {course['courseId']}) - Price: ${course['price']}\")"
   ]
  },
  {
   "cell_type": "code",
   "execution_count": 53,
   "id": "687471e5",
   "metadata": {},
   "outputs": [
    {
     "name": "stdout",
     "output_type": "stream",
     "text": [
      "List of users that joined in the past 6 months \n",
      "\n",
      "Adams Barbara joined 4 week(s) ago\n",
      "Johnson Pelumi joined 1 month(s) ago\n",
      "Emily Alice joined 5 month(s) ago\n",
      "Miller Sarah joined 3 month(s) ago\n",
      "Sarah Alice joined 5 month(s) ago\n",
      "Williams Thomas joined 2 month(s) ago\n",
      "James Robert joined 5 month(s) ago\n",
      "Mayowa Williams joined today\n"
     ]
    }
   ],
   "source": [
    "#get users who joined in the last 6 months \n",
    "time_joined = datetime.now() - timedelta(days=180)\n",
    "users = list(users_collection.find({\"dateJoined\": {\"$gte\": time_joined}}))\n",
    "\n",
    "print(f\"List of users that joined in the past 6 months \\n\")\n",
    "for user in users:\n",
    "    diff_days = (datetime.now() - user['dateJoined']).days \n",
    "    \n",
    "    if diff_days == 0:\n",
    "        time_ago = \"today\"\n",
    "    elif diff_days < 7:\n",
    "        time_ago = f\"{diff_days} day(s) ago\"\n",
    "    elif diff_days < 30:\n",
    "        week_ago = diff_days // 7\n",
    "        time_ago = f\"{week_ago} week(s) ago\"\n",
    "    else:\n",
    "        month_ago = diff_days // 30\n",
    "        time_ago = f\"{month_ago} month(s) ago\"\n",
    "\n",
    "\n",
    "    print(f\"{user['firstname']} {user['lastname']} joined {time_ago}\")\n",
    "    "
   ]
  },
  {
   "cell_type": "code",
   "execution_count": 56,
   "id": "edcf250c",
   "metadata": {},
   "outputs": [
    {
     "name": "stdout",
     "output_type": "stream",
     "text": [
      "Python, ['Python', 'Programming'], PYT\n",
      "MongoDB, ['Python', 'Database'], EXL\n",
      "Data Science, ['Python', 'Data'], DSI\n",
      "Data Engineering, ['Python', 'Programming'], DEG\n",
      "Data Visualization, ['Python', 'Programming'], DVI\n"
     ]
    }
   ],
   "source": [
    "#find courses that have a specific tags using $in operator\n",
    "course = list(courses_collection.find({\"tags\":{\"$in\":[\"Python\"]}}))\n",
    "\n",
    "for c in course:\n",
    "    print(f\"{c['title']}, {c['tags']}, {c['courseId']}\")"
   ]
  },
  {
   "cell_type": "code",
   "execution_count": 75,
   "id": "785526df",
   "metadata": {},
   "outputs": [
    {
     "name": "stdout",
     "output_type": "stream",
     "text": [
      "Assignments due in the next 7 days:\n",
      "\n",
      "DEG, Complete the assignment for MongoDB dues 2025-10-08\n",
      "JSC, Complete the assignment for Data Visualization dues 2025-10-06\n",
      "PYT, Complete the assignment for JavaScript dues 2025-10-03\n",
      "DVI, Complete the assignment for MongoDB dues 2025-10-04\n"
     ]
    }
   ],
   "source": [
    "#retrieve assignments with due date in the next 7 days\n",
    "today = datetime.now().replace(hour=0, minute=0, second=0, microsecond=0)\n",
    "due_date = today + timedelta(days=7)\n",
    "assignments = list(assignments_collection.find({\"dueDate\": {\"$gt\" : today , \"$lt\" : due_date}}))\n",
    "\n",
    "print(\"Assignments due in the next 7 days:\\n\")\n",
    "for a in assignments:\n",
    "    print(f\"{a['courseId']}, {a['description']} dues {a['dueDate'].date()}\")"
   ]
  },
  {
   "cell_type": "markdown",
   "id": "9980c8c4",
   "metadata": {},
   "source": [
    "Task 4.2: Aggregation Pipeline\n",
    "\n",
    "Create aggregation pipelines using PyMongo for:\n",
    "\n",
    "    Course Enrollment Statistics:\n",
    "        Count total enrollments per course\n",
    "        Calculate average course rating\n",
    "        Group by course category\n",
    "    Student Performance Analysis:\n",
    "        Average grade per student\n",
    "        Completion rate by course\n",
    "        Top-performing students\n",
    "    Instructor Analytics:\n",
    "        Total students taught by each instructor\n",
    "        Average course rating per instructor\n",
    "        Revenue generated per instructor\n",
    "    Advanced Analytics:\n",
    "        Monthly enrollment trends\n",
    "        Most popular course categories\n",
    "        Student engagement metrics\n"
   ]
  },
  {
   "cell_type": "code",
   "execution_count": 86,
   "id": "4ab68dde",
   "metadata": {},
   "outputs": [
    {
     "name": "stdout",
     "output_type": "stream",
     "text": [
      "Enrollment stats:\n",
      "\n",
      "Category: Programming\n",
      " - Course: JavaScript (ID: JSC)\n",
      " -  Total Enrollments: 3\n",
      "\n",
      "Category: Data\n",
      " - Course: Data Analysis (ID: DAS)\n",
      " -  Total Enrollments: 5\n",
      "\n",
      "Category: Database\n",
      " - Course: MongoDB (ID: EXL)\n",
      " -  Total Enrollments: 2\n",
      "\n",
      "Category: Data\n",
      " - Course: Data Engineering (ID: DEG)\n",
      " -  Total Enrollments: 1\n",
      "\n",
      "Category: Data\n",
      " - Course: Data Visualization (ID: DVI)\n",
      " -  Total Enrollments: 1\n",
      "\n",
      "Category: Programming\n",
      " - Course: Python (ID: PYT)\n",
      " -  Total Enrollments: 3\n",
      "\n"
     ]
    }
   ],
   "source": [
    "#course enrollment statistics\n",
    "#  Course Enrollment Statistics:\n",
    "#         Count total enrollments per course\n",
    "#    Calculate average course rating....not yet done \n",
    "#         Group by course category\n",
    "\n",
    "enrollment_stats = enrollments_collection.aggregate([\n",
    "    {\"$group\": \n",
    "        {\"_id\": \"$courseId\", \n",
    "         \"totalEnrollments\": {\"$sum\": 1}}\n",
    "    }\n",
    "])\n",
    "\n",
    "print(\"Enrollment stats:\\n\")\n",
    "for stat in enrollment_stats:\n",
    "    # Look up the course details\n",
    "    course = courses_collection.find_one({\"courseId\": stat[\"_id\"]})\n",
    "    if course:\n",
    "        print(f\"Category: {course['category']}\")\n",
    "        print(f\" - Course: {course['title']} (ID: {stat['_id']})\")\n",
    "        print(f\" -  Total Enrollments: {stat['totalEnrollments']}\\n\")"
   ]
  },
  {
   "cell_type": "code",
   "execution_count": 93,
   "id": "a3e99a97",
   "metadata": {},
   "outputs": [
    {
     "name": "stdout",
     "output_type": "stream",
     "text": [
      "Updated assignment a_0000\n",
      "Updated assignment a_0001\n",
      "Updated assignment a_0002\n",
      "Updated assignment a_0003\n",
      "Updated assignment a_0004\n",
      "Updated assignment a_0005\n",
      "Updated assignment a_0006\n",
      "Updated assignment a_0007\n",
      "Updated assignment a_0008\n",
      "Updated assignment a_0009\n"
     ]
    }
   ],
   "source": [
    "assignments_collection = db[\"assignments\"]\n",
    "\n",
    "# fetch all assignments\n",
    "assignments = list(assignments_collection.find({}))\n",
    "\n",
    "for a in assignments:\n",
    "    if isinstance(a.get(\"grades\"), dict):  # only convert dicts\n",
    "        new_grades = [{\"studentId\": k, \"grade\": v} for k, v in a[\"grades\"].items()]\n",
    "        \n",
    "        assignments_collection.update_one(\n",
    "            {\"_id\": a[\"_id\"]},\n",
    "            {\"$set\": {\"grades\": new_grades}}\n",
    "        )\n",
    "        print(f\"Updated assignment {a['assignmentId']}\")\n"
   ]
  },
  {
   "cell_type": "code",
   "execution_count": null,
   "id": "51e87e32",
   "metadata": {},
   "outputs": [
    {
     "name": "stdout",
     "output_type": "stream",
     "text": [
      "{'_id': ObjectId('68de2afede87aa09a1f6bad8'), 'assignmentId': 'a_0000', 'dueDate': datetime.datetime(2025, 10, 20, 8, 34, 22, 751000), 'lessonId': 'lesson_395', 'courseId': 'DAS', 'description': 'Complete the assignment for JavaScript', 'grades': [{'studentId': 'user_1', 'grade': 59}, {'studentId': 'user_2', 'grade': 86}, {'studentId': 'user_3', 'grade': 88}, {'studentId': 'user_4', 'grade': 68}, {'studentId': 'user_5', 'grade': 87}, {'studentId': 'user_6', 'grade': 63}, {'studentId': 'user_7', 'grade': 68}, {'studentId': 'user_8', 'grade': 62}, {'studentId': 'user_9', 'grade': 97}, {'studentId': 'user_10', 'grade': 93}, {'studentId': 'user_11', 'grade': 82}, {'studentId': 'user_12', 'grade': 77}, {'studentId': 'user_13', 'grade': 72}, {'studentId': 'user_14', 'grade': 88}, {'studentId': 'user_15', 'grade': 77}]}\n",
      "{'_id': ObjectId('68de2afede87aa09a1f6bad9'), 'assignmentId': 'a_0001', 'dueDate': datetime.datetime(2025, 10, 8, 8, 34, 22, 751000), 'lessonId': 'lesson_448', 'courseId': 'DEG', 'description': 'Complete the assignment for MongoDB', 'grades': [{'studentId': 'user_1', 'grade': 95}, {'studentId': 'user_2', 'grade': 70}, {'studentId': 'user_3', 'grade': 73}, {'studentId': 'user_4', 'grade': 80}, {'studentId': 'user_5', 'grade': 61}, {'studentId': 'user_6', 'grade': 67}, {'studentId': 'user_7', 'grade': 99}, {'studentId': 'user_8', 'grade': 57}, {'studentId': 'user_9', 'grade': 91}, {'studentId': 'user_10', 'grade': 96}, {'studentId': 'user_11', 'grade': 69}, {'studentId': 'user_12', 'grade': 54}, {'studentId': 'user_13', 'grade': 86}, {'studentId': 'user_14', 'grade': 75}, {'studentId': 'user_15', 'grade': 67}]}\n",
      "{'_id': ObjectId('68de2afede87aa09a1f6bada'), 'assignmentId': 'a_0002', 'dueDate': datetime.datetime(2025, 10, 21, 8, 34, 22, 751000), 'lessonId': 'lesson_327', 'courseId': 'JSC', 'description': 'Complete the assignment for MongoDB', 'grades': [{'studentId': 'user_1', 'grade': 55}, {'studentId': 'user_2', 'grade': 85}, {'studentId': 'user_3', 'grade': 82}, {'studentId': 'user_4', 'grade': 64}, {'studentId': 'user_5', 'grade': 91}, {'studentId': 'user_6', 'grade': 63}, {'studentId': 'user_7', 'grade': 64}, {'studentId': 'user_8', 'grade': 98}, {'studentId': 'user_9', 'grade': 85}, {'studentId': 'user_10', 'grade': 71}, {'studentId': 'user_11', 'grade': 88}, {'studentId': 'user_12', 'grade': 83}, {'studentId': 'user_13', 'grade': 72}, {'studentId': 'user_14', 'grade': 88}, {'studentId': 'user_15', 'grade': 62}]}\n",
      "{'_id': ObjectId('68de2afede87aa09a1f6badb'), 'assignmentId': 'a_0003', 'dueDate': datetime.datetime(2025, 10, 6, 8, 34, 22, 751000), 'lessonId': 'lesson_483', 'courseId': 'JSC', 'description': 'Complete the assignment for Data Visualization', 'grades': [{'studentId': 'user_1', 'grade': 95}, {'studentId': 'user_2', 'grade': 78}, {'studentId': 'user_3', 'grade': 52}, {'studentId': 'user_4', 'grade': 53}, {'studentId': 'user_5', 'grade': 92}, {'studentId': 'user_6', 'grade': 76}, {'studentId': 'user_7', 'grade': 92}, {'studentId': 'user_8', 'grade': 77}, {'studentId': 'user_9', 'grade': 76}, {'studentId': 'user_10', 'grade': 94}, {'studentId': 'user_11', 'grade': 92}, {'studentId': 'user_12', 'grade': 54}, {'studentId': 'user_13', 'grade': 62}, {'studentId': 'user_14', 'grade': 72}, {'studentId': 'user_15', 'grade': 85}]}\n",
      "{'_id': ObjectId('68de2afede87aa09a1f6badc'), 'assignmentId': 'a_0004', 'dueDate': datetime.datetime(2025, 10, 3, 8, 34, 22, 751000), 'lessonId': 'lesson_335', 'courseId': 'PYT', 'description': 'Complete the assignment for JavaScript', 'grades': [{'studentId': 'user_1', 'grade': 79}, {'studentId': 'user_2', 'grade': 80}, {'studentId': 'user_3', 'grade': 51}, {'studentId': 'user_4', 'grade': 65}, {'studentId': 'user_5', 'grade': 70}, {'studentId': 'user_6', 'grade': 85}, {'studentId': 'user_7', 'grade': 90}, {'studentId': 'user_8', 'grade': 69}, {'studentId': 'user_9', 'grade': 60}, {'studentId': 'user_10', 'grade': 89}, {'studentId': 'user_11', 'grade': 85}, {'studentId': 'user_12', 'grade': 72}, {'studentId': 'user_13', 'grade': 67}, {'studentId': 'user_14', 'grade': 84}, {'studentId': 'user_15', 'grade': 78}]}\n",
      "{'_id': ObjectId('68de2afede87aa09a1f6badd'), 'assignmentId': 'a_0005', 'dueDate': datetime.datetime(2025, 10, 15, 8, 34, 22, 751000), 'lessonId': 'lesson_185', 'courseId': 'DSI', 'description': 'Complete the assignment for JavaScript', 'grades': [{'studentId': 'user_1', 'grade': 50}, {'studentId': 'user_2', 'grade': 55}, {'studentId': 'user_3', 'grade': 65}, {'studentId': 'user_4', 'grade': 70}, {'studentId': 'user_5', 'grade': 54}, {'studentId': 'user_6', 'grade': 84}, {'studentId': 'user_7', 'grade': 84}, {'studentId': 'user_8', 'grade': 51}, {'studentId': 'user_9', 'grade': 63}, {'studentId': 'user_10', 'grade': 53}, {'studentId': 'user_11', 'grade': 63}, {'studentId': 'user_12', 'grade': 91}, {'studentId': 'user_13', 'grade': 78}, {'studentId': 'user_14', 'grade': 86}, {'studentId': 'user_15', 'grade': 61}]}\n",
      "{'_id': ObjectId('68de2afede87aa09a1f6bade'), 'assignmentId': 'a_0006', 'dueDate': datetime.datetime(2025, 10, 19, 8, 34, 22, 751000), 'lessonId': 'lesson_486', 'courseId': 'DEG', 'description': 'Complete the assignment for MongoDB', 'grades': [{'studentId': 'user_1', 'grade': 79}, {'studentId': 'user_2', 'grade': 82}, {'studentId': 'user_3', 'grade': 91}, {'studentId': 'user_4', 'grade': 65}, {'studentId': 'user_5', 'grade': 61}, {'studentId': 'user_6', 'grade': 67}, {'studentId': 'user_7', 'grade': 59}, {'studentId': 'user_8', 'grade': 76}, {'studentId': 'user_9', 'grade': 95}, {'studentId': 'user_10', 'grade': 59}, {'studentId': 'user_11', 'grade': 56}, {'studentId': 'user_12', 'grade': 56}, {'studentId': 'user_13', 'grade': 88}, {'studentId': 'user_14', 'grade': 93}, {'studentId': 'user_15', 'grade': 63}]}\n",
      "{'_id': ObjectId('68de2afede87aa09a1f6badf'), 'assignmentId': 'a_0007', 'dueDate': datetime.datetime(2025, 10, 4, 8, 34, 22, 751000), 'lessonId': 'lesson_248', 'courseId': 'DVI', 'description': 'Complete the assignment for MongoDB', 'grades': [{'studentId': 'user_1', 'grade': 77}, {'studentId': 'user_2', 'grade': 72}, {'studentId': 'user_3', 'grade': 59}, {'studentId': 'user_4', 'grade': 87}, {'studentId': 'user_5', 'grade': 80}, {'studentId': 'user_6', 'grade': 76}, {'studentId': 'user_7', 'grade': 73}, {'studentId': 'user_8', 'grade': 99}, {'studentId': 'user_9', 'grade': 58}, {'studentId': 'user_10', 'grade': 61}, {'studentId': 'user_11', 'grade': 97}, {'studentId': 'user_12', 'grade': 60}, {'studentId': 'user_13', 'grade': 90}, {'studentId': 'user_14', 'grade': 68}, {'studentId': 'user_15', 'grade': 75}]}\n",
      "{'_id': ObjectId('68de2afede87aa09a1f6bae0'), 'assignmentId': 'a_0008', 'dueDate': datetime.datetime(2025, 10, 20, 8, 34, 22, 751000), 'lessonId': 'lesson_278', 'courseId': 'DVI', 'description': 'Complete the assignment for Data Analysis', 'grades': [{'studentId': 'user_1', 'grade': 99}, {'studentId': 'user_2', 'grade': 50}, {'studentId': 'user_3', 'grade': 98}, {'studentId': 'user_4', 'grade': 50}, {'studentId': 'user_5', 'grade': 50}, {'studentId': 'user_6', 'grade': 55}, {'studentId': 'user_7', 'grade': 55}, {'studentId': 'user_8', 'grade': 96}, {'studentId': 'user_9', 'grade': 82}, {'studentId': 'user_10', 'grade': 60}, {'studentId': 'user_11', 'grade': 83}, {'studentId': 'user_12', 'grade': 91}, {'studentId': 'user_13', 'grade': 55}, {'studentId': 'user_14', 'grade': 55}, {'studentId': 'user_15', 'grade': 66}]}\n",
      "{'_id': ObjectId('68de2afede87aa09a1f6bae1'), 'assignmentId': 'a_0009', 'dueDate': datetime.datetime(2025, 10, 9, 8, 34, 22, 751000), 'lessonId': 'lesson_483', 'courseId': 'DVI', 'description': 'Complete the assignment for Data Engineering', 'grades': [{'studentId': 'user_1', 'grade': 86}, {'studentId': 'user_2', 'grade': 54}, {'studentId': 'user_3', 'grade': 62}, {'studentId': 'user_4', 'grade': 88}, {'studentId': 'user_5', 'grade': 60}, {'studentId': 'user_6', 'grade': 50}, {'studentId': 'user_7', 'grade': 74}, {'studentId': 'user_8', 'grade': 94}, {'studentId': 'user_9', 'grade': 68}, {'studentId': 'user_10', 'grade': 55}, {'studentId': 'user_11', 'grade': 87}, {'studentId': 'user_12', 'grade': 82}, {'studentId': 'user_13', 'grade': 74}, {'studentId': 'user_14', 'grade': 53}, {'studentId': 'user_15', 'grade': 75}]}\n"
     ]
    }
   ],
   "source": [
    "assignment = list(assignments_collection.find({}))\n",
    "\n",
    "for a in assignment:\n",
    "    \n",
    "    print(a)"
   ]
  },
  {
   "cell_type": "code",
   "execution_count": 103,
   "metadata": {},
   "outputs": [
    {
     "name": "stdout",
     "output_type": "stream",
     "text": [
      "Student analysis: \n",
      "\n",
      "Miller Ruth (Id: user_11): \n",
      "    Average grade: 80.20\n",
      "    Rank: 1 \n",
      "\n",
      "Miller Sarah (Id: user_8): \n",
      "    Average grade: 77.90\n",
      "    Rank: 2 \n",
      "\n",
      "Adams Susan (Id: user_9): \n",
      "    Average grade: 77.50\n",
      "    Rank: 3 \n",
      "\n",
      "Adams Barbara (Id: user_1): \n",
      "    Average grade: 77.40\n",
      "    Rank: 4 \n",
      "\n",
      "Williams Thomas (Id: user_14): \n",
      "    Average grade: 76.20\n",
      "    Rank: 5 \n",
      "\n",
      "Adams Susan (Id: user_7): \n",
      "    Average grade: 75.80\n",
      "    Rank: 6 \n",
      "\n",
      "John Mary (Id: user_13): \n",
      "    Average grade: 74.40\n",
      "    Rank: 7 \n",
      "\n",
      "Jones Jennifer (Id: user_10): \n",
      "    Average grade: 73.10\n",
      "    Rank: 8 \n",
      "\n",
      "Miller Grace (Id: user_3): \n",
      "    Average grade: 72.10\n",
      "    Rank: 9 \n",
      "\n",
      "Sarah Alice (Id: user_12): \n",
      "    Average grade: 72.00\n",
      "    Rank: 10 \n",
      "\n",
      "Sarah Anderson (Id: user_2): \n",
      "    Average grade: 71.20\n",
      "    Rank: 11 \n",
      "\n",
      "Doe Elizabeth (Id: user_15): \n",
      "    Average grade: 70.90\n",
      "    Rank: 12 \n",
      "\n",
      "Linda Robert (Id: user_5): \n",
      "    Average grade: 70.60\n",
      "    Rank: 13 \n",
      "\n",
      "Johnson Pelumi (Id: user_4): \n",
      "    Average grade: 69.00\n",
      "    Rank: 14 \n",
      "\n",
      "Emily Alice (Id: user_6): \n",
      "    Average grade: 68.60\n",
      "    Rank: 15 \n",
      "\n"
     ]
    }
   ],
   "source": [
    "# Student Performance Analysis:\n",
    "#         Average grade per student\n",
    "#         Completion rate by course ---not yet done \n",
    "#         Top-performing students\n",
    "\n",
    "student_analysis = assignments_collection.aggregate([\n",
    "    {\"$unwind\": \"$grades\"},\n",
    "    {\n",
    "        \"$group\": \n",
    "            {   \"_id\" : \"$grades.studentId\", #grouped students by id \n",
    "                \"avg_grade\": {\"$avg\": \"$grades.grade\"}  #average grade\n",
    "            }\n",
    "     },\n",
    "    {\n",
    "        \"$sort\": {\"avg_grade\": -1}\n",
    "     },\n",
    "    {\n",
    "        \"$setWindowFields\": {\n",
    "             \"sortBy\":{\"avg_grade\": -1},\n",
    "            \"output\": {\n",
    "                \"rank\": {\"$rank\": {}}\n",
    "            }\n",
    "        }\n",
    "     }   \n",
    "])\n",
    "\n",
    "print(f\"Student analysis: \\n\")\n",
    "for student in student_analysis:\n",
    "    student_doc = users_collection.find_one({\"userId\": student[\"_id\"], \"role\":\"student\"})\n",
    "    if student_doc:\n",
    "        print(f\"{student_doc['firstname']} {student_doc['lastname']} (Id: {student_doc['userId']}): \")\n",
    "        print(f\"    Average grade: {student['avg_grade']:.2f}\")\n",
    "        print(f\"    Rank: {student['rank']} \\n\")"
   ]
  },
  {
   "cell_type": "code",
   "execution_count": 109,
   "id": "d41f42c2",
   "metadata": {},
   "outputs": [
    {
     "name": "stdout",
     "output_type": "stream",
     "text": [
      "Added ratings to '68de2afcde87aa09a1f6baa8'. Modified 1 document(s).\n",
      "Added ratings to '68de2afcde87aa09a1f6baa9'. Modified 1 document(s).\n",
      "Added ratings to '68de2afcde87aa09a1f6baaa'. Modified 1 document(s).\n",
      "Added ratings to '68de2afcde87aa09a1f6baab'. Modified 1 document(s).\n",
      "Added ratings to '68de2afcde87aa09a1f6baac'. Modified 1 document(s).\n",
      "Added ratings to '68de2afcde87aa09a1f6baad'. Modified 1 document(s).\n",
      "Added ratings to '68de2afcde87aa09a1f6baae'. Modified 1 document(s).\n",
      "Added ratings to '68de2afcde87aa09a1f6baaf'. Modified 1 document(s).\n",
      "Added ratings to '68de2b02de87aa09a1f6bafb'. Modified 1 document(s).\n"
     ]
    }
   ],
   "source": [
    "#adding rating to the course_collection\n",
    "\n",
    "students = list(users_collection.find({\"role\":\"student\"}))\n",
    "courses = courses_collection.find({})\n",
    "\n",
    "\n",
    "for course in courses:\n",
    "    ratings = []\n",
    "    for student in students:\n",
    "        rate_value = random.randint(1, 5)\n",
    "        rates = {\n",
    "            \"studentId\": student[\"userId\"],\n",
    "            \"rating\": rate_value,\n",
    "            \"comment\": \"Great course, would recommend it\" if rate_value > 3 else \"Can be improved, thanks\",\n",
    "            \"ratedAt\": datetime.now()\n",
    "        }\n",
    "        ratings.append(rates)\n",
    "    \n",
    "    result = courses_collection.update_one(\n",
    "        {\"_id\": course[\"_id\"]},\n",
    "        {\"$set\": {\"ratings\": ratings}}\n",
    "    )\n",
    "    print(f\"Added ratings to '{course['_id']}'. Modified {result.modified_count} document(s).\")\n"
   ]
  },
  {
   "cell_type": "code",
   "execution_count": 116,
   "id": "44cd075a",
   "metadata": {},
   "outputs": [
    {
     "name": "stdout",
     "output_type": "stream",
     "text": [
      "Instructor: Doe Davis (ID: user_20)\n",
      "  Total students taught: 4\n",
      "  Average course rating: 2.73\n",
      "  Revenue generated: $15072.00\n",
      "\n",
      "Instructor: James Robert (ID: user_18)\n",
      "  Total students taught: 2\n",
      "  Average course rating: 3.00\n",
      "  Revenue generated: $9168.00\n",
      "\n",
      "Instructor: Doe Thomas (ID: user_17)\n",
      "  Total students taught: 1\n",
      "  Average course rating: 3.00\n",
      "  Revenue generated: $1104.00\n",
      "\n",
      "Instructor: Cooper Jennifer (ID: user_16)\n",
      "  Total students taught: 1\n",
      "  Average course rating: 3.25\n",
      "  Revenue generated: $0.00\n",
      "\n",
      "Instructor: James Jessica (ID: user_19)\n",
      "  Total students taught: 1\n",
      "  Average course rating: 3.25\n",
      "  Revenue generated: $9840.00\n",
      "\n"
     ]
    }
   ],
   "source": [
    "# Instructor Analytics:\n",
    "#     Total students taught by each instructor\n",
    "#     Average course rating per instructor  \n",
    "#     Revenue generated per instructor\n",
    "\n",
    "instructor_stats = courses_collection.aggregate([\n",
    "    # Join enrollments\n",
    "    {\n",
    "        \"$lookup\": {\n",
    "            \"from\": \"enrollments\",\n",
    "            \"localField\": \"courseId\",\n",
    "            \"foreignField\": \"courseId\",\n",
    "            \"as\": \"enrolled_students\"\n",
    "        }\n",
    "    },\n",
    "    # Unwind ratings for avg_rating\n",
    "    {\"$unwind\": {\"path\": \"$ratings\", \"preserveNullAndEmptyArrays\": True}},\n",
    "    # Group by instructor\n",
    "    {\n",
    "        \"$group\": {\n",
    "            \"_id\": \"$instructorId\",\n",
    "            \"unique_students\": {\"$addToSet\": \"$enrolled_students.studentId\"}, # list of all enrolled student IDs\n",
    "            \"avg_rating\": {\"$avg\": \"$ratings.rating\"},\n",
    "            \"revenue\": {\"$sum\": {\"$multiply\": [\"$price\", {\"$size\": \"$enrolled_students\"}]}}\n",
    "        }\n",
    "    },\n",
    "    # Count unique students\n",
    "    {\n",
    "        \"$project\": {\n",
    "            \"total_students\": {\"$size\": \"$unique_students\"},\n",
    "            \"avg_rating\": 1,\n",
    "            \"revenue\": 1\n",
    "        }\n",
    "    },\n",
    "    {\"$sort\": {\"total_students\": -1}}\n",
    "])\n",
    "\n",
    "\n",
    "for instructor in instructor_stats:\n",
    "    doc = users_collection.find_one({\"userId\": instructor[\"_id\"], \"role\": \"instructor\"})\n",
    "    if doc:\n",
    "        print(f\"Instructor: {doc['firstname']} {doc['lastname']} (ID: {doc['userId']})\")\n",
    "        print(f\"  Total students taught: {instructor['total_students']}\")\n",
    "        print(f\"  Average course rating: {instructor.get('avg_rating', 0):.2f}\")\n",
    "        print(f\"  Revenue generated: ${instructor['revenue']:.2f}\\n\")\n"
   ]
  },
  {
   "cell_type": "code",
   "execution_count": null,
   "metadata": {},
   "outputs": [
    {
     "name": "stdout",
     "output_type": "stream",
     "text": [
      "Monthly Enrollment Trends:\n",
      "\n",
      "2025-10: 15 enrollments\n"
     ]
    }
   ],
   "source": [
    "# Advanced Analytics:\n",
    "#     Monthly enrollment trends\n",
    "#     Most popular course categories\n",
    "#     Student engagement metrics\n",
    "\n",
    "\n",
    "# Aggregate enrollments per month\n",
    "\n",
    "monthly_trends = enrollments_collection.aggregate([\n",
    "    {\n",
    "        \"$group\": {\n",
    "            \"_id\": {\n",
    "                \"year\": {\"$year\": \"$startDate\"},\n",
    "                \"month\": {\"$month\": \"$startDate\"}\n",
    "            },\n",
    "            \"total_enrollments\": {\"$sum\": 1}\n",
    "        }\n",
    "    },\n",
    "    {\"$sort\": {\"_id.year\": 1, \"_id.month\": 1}}\n",
    "])\n",
    "\n",
    "print(\"Monthly Enrollment Trends:\\n\")\n",
    "for trend in monthly_trends:\n",
    "    year = trend[\"_id\"][\"year\"]\n",
    "    month = trend[\"_id\"][\"month\"]\n",
    "    print(f\"{year}-{month:02d}: {trend['total_enrollments']} enrollments\")\n",
    "\n",
    "\n"
   ]
  },
  {
   "cell_type": "code",
   "execution_count": null,
   "id": "10821a46",
   "metadata": {},
   "outputs": [
    {
     "name": "stdout",
     "output_type": "stream",
     "text": [
      "\n",
      "Most Popular Course Categories:\n",
      "\n",
      "Data: 7 enrollments\n",
      "Programming: 6 enrollments\n",
      "Database: 2 enrollments\n"
     ]
    }
   ],
   "source": [
    "# Most popular course categories\n",
    "\n",
    "popular_categories = enrollments_collection.aggregate([\n",
    "    {\n",
    "        \"$lookup\": {\n",
    "            \"from\": \"courses\",\n",
    "            \"localField\": \"courseId\",\n",
    "            \"foreignField\": \"courseId\",\n",
    "            \"as\": \"course_info\"\n",
    "        }\n",
    "    },\n",
    "    {\"$unwind\": \"$course_info\"},\n",
    "    {\n",
    "        \"$group\": {\n",
    "            \"_id\": \"$course_info.category\",\n",
    "            \"total_enrollments\": {\"$sum\": 1}\n",
    "        }\n",
    "    },\n",
    "    {\"$sort\": {\"total_enrollments\": -1}}\n",
    "])\n",
    "\n",
    "print(\"\\nMost Popular Course Categories:\\n\")\n",
    "for category in popular_categories:\n",
    "    print(f\"{category['_id']}: {category['total_enrollments']} enrollments\")\n"
   ]
  },
  {
   "cell_type": "code",
   "execution_count": null,
   "id": "801dd246",
   "metadata": {},
   "outputs": [
    {
     "name": "stdout",
     "output_type": "stream",
     "text": [
      "\n",
      "Student Engagement Metrics:\n",
      "Average courses per student: 1.25\n",
      "Total active students: 12\n"
     ]
    }
   ],
   "source": [
    "# Student engagement metrics\n",
    "# Average courses per student\n",
    "\n",
    "engagement = enrollments_collection.aggregate([\n",
    "    {\n",
    "        \"$group\": {\n",
    "            \"_id\": \"$studentId\",\n",
    "            \"courses_enrolled\": {\"$sum\": 1}\n",
    "        }\n",
    "    },\n",
    "    {\n",
    "        \"$group\": {\n",
    "            \"_id\": None,\n",
    "            \"avg_courses_per_student\": {\"$avg\": \"$courses_enrolled\"},\n",
    "            \"total_students\": {\"$sum\": 1}\n",
    "        }\n",
    "    }\n",
    "])\n",
    "\n",
    "for e in engagement:\n",
    "    print(f\"\\nStudent Engagement Metrics:\")\n",
    "    print(f\"Average courses per student: {e['avg_courses_per_student']:.2f}\")\n",
    "    print(f\"Total active students: {e['total_students']}\")\n"
   ]
  },
  {
   "cell_type": "markdown",
   "id": "40f057b1",
   "metadata": {},
   "source": [
    "Task 5.1: Index Creation\n",
    "\n",
    "Create appropriate indexes for:\n",
    "\n",
    "    User email lookup\n",
    "    Course search by title and category\n",
    "    Assignment queries by due date\n",
    "    Enrollment queries by student and course\n",
    "\n",
    "\n"
   ]
  },
  {
   "cell_type": "code",
   "execution_count": null,
   "id": "6b41f845",
   "metadata": {},
   "outputs": [
    {
     "data": {
      "text/plain": [
       "'idx_user_email'"
      ]
     },
     "execution_count": 128,
     "metadata": {},
     "output_type": "execute_result"
    }
   ],
   "source": [
    "\n",
    "pipeline = [\n",
    "    {\"$group\": {\"_id\": \"$email\", \"count\": {\"$sum\": 1}, \"docs\": {\"$push\": \"$_id\"}}},\n",
    "    {\"$match\": {\"count\": {\"$gt\": 1}}}\n",
    "]\n",
    "\n",
    "duplicates = list(users_collection.aggregate(pipeline))\n",
    "\n",
    "for dup in duplicates:\n",
    "    print(dup)\n",
    "\n",
    "\n",
    "for dup in duplicates:\n",
    "    # keep the first document, delete the rest\n",
    "    ids_to_delete = dup[\"docs\"][1:]\n",
    "    users_collection.delete_many({\"_id\": {\"$in\": ids_to_delete}})\n",
    "\n",
    "\n",
    "# index for user email\n",
    "users_collection.create_index(\n",
    "    [(\"email\", 1)],  # 1 for ascending\n",
    "    unique=True,\n",
    "    name=\"idx_user_email\"\n",
    ")\n",
    "\n"
   ]
  },
  {
   "cell_type": "code",
   "execution_count": 126,
   "id": "761fa3d1",
   "metadata": {},
   "outputs": [
    {
     "data": {
      "text/plain": [
       "'idx_course_title_category'"
      ]
     },
     "execution_count": 126,
     "metadata": {},
     "output_type": "execute_result"
    }
   ],
   "source": [
    "# Text index for title search + category\n",
    "courses_collection.create_index(\n",
    "    [(\"title\", \"text\"), (\"category\", 1)],\n",
    "    name=\"idx_course_title_category\"\n",
    ")\n"
   ]
  },
  {
   "cell_type": "code",
   "execution_count": null,
   "id": "9d640b6a",
   "metadata": {},
   "outputs": [
    {
     "data": {
      "text/plain": [
       "'idx_assignment_dueDate'"
      ]
     },
     "execution_count": 123,
     "metadata": {},
     "output_type": "execute_result"
    }
   ],
   "source": [
    "# index for assignments by due date \n",
    "assignments_collection.create_index(\n",
    "    [(\"dueDate\", 1)],\n",
    "    name=\"idx_assignment_dueDate\"\n",
    ")\n"
   ]
  },
  {
   "cell_type": "code",
   "execution_count": null,
   "metadata": {},
   "outputs": [
    {
     "data": {
      "text/plain": [
       "'idx_enrollment_student_course'"
      ]
     },
     "execution_count": 124,
     "metadata": {},
     "output_type": "execute_result"
    }
   ],
   "source": [
    "# index for enrollment by student and course\n",
    "enrollments_collection.create_index(\n",
    "    [(\"studentId\", 1), (\"courseId\", 1)],\n",
    "    name=\"idx_enrollment_student_course\"\n",
    ")\n"
   ]
  },
  {
   "cell_type": "markdown",
   "id": "519e277d",
   "metadata": {},
   "source": [
    "Task 5.2: Query Optimization\n",
    "\n",
    "    Analyze query performance using explain() method in PyMongo\n",
    "    Optimize at least 3 slow queries\n",
    "    Document the performance improvements using Python timing functions"
   ]
  },
  {
   "cell_type": "code",
   "execution_count": null,
   "id": "18c7b435",
   "metadata": {},
   "outputs": [],
   "source": [
    "# Utility function: benchmark query execution time\n",
    "def benchmark_query(label, query_func):\n",
    "    start = time.perf_counter()\n",
    "    result = query_func()\n",
    "    end = time.perf_counter()\n",
    "    duration = (end - start) * 1000  # ms\n",
    "    print(f\"{label} → {duration:.3f} ms\")\n",
    "    return result"
   ]
  },
  {
   "cell_type": "code",
   "execution_count": null,
   "id": "15486cfd",
   "metadata": {},
   "outputs": [
    {
     "name": "stdout",
     "output_type": "stream",
     "text": [
      "[BEFORE] Email lookup explain:\n",
      "{'_id': ObjectId('68de2afade87aa09a1f6ba9a'), 'userId': 'user_7', 'firstname': 'Adams', 'lastname': 'Susan', 'role': 'student', 'dateJoined': datetime.datetime(2024, 9, 14, 8, 34, 18, 834000), 'profile': {'bio': 'Middle foreign authority early standard. Player artist fly determine last leg. Despite heart instead. Imagine blue school.', 'avatar': 'https://placekitten.com/474/446', 'skills': ['analysis', 'python']}, 'is_active': True, 'email': 'adams.susan@eduhub.com'}\n",
      "{'isCached': False, 'stage': 'EXPRESS_IXSCAN', 'keyPattern': '{ email: 1 }', 'indexName': 'idx_user_email'}\n",
      "User email lookup → 1.717 ms\n"
     ]
    },
    {
     "data": {
      "text/plain": [
       "{'_id': ObjectId('68de2afade87aa09a1f6ba9a'),\n",
       " 'userId': 'user_7',\n",
       " 'firstname': 'Adams',\n",
       " 'lastname': 'Susan',\n",
       " 'role': 'student',\n",
       " 'dateJoined': datetime.datetime(2024, 9, 14, 8, 34, 18, 834000),\n",
       " 'profile': {'bio': 'Middle foreign authority early standard. Player artist fly determine last leg. Despite heart instead. Imagine blue school.',\n",
       "  'avatar': 'https://placekitten.com/474/446',\n",
       "  'skills': ['analysis', 'python']},\n",
       " 'is_active': True,\n",
       " 'email': 'adams.susan@eduhub.com'}"
      ]
     },
     "execution_count": 132,
     "metadata": {},
     "output_type": "execute_result"
    }
   ],
   "source": [
    "#User email lookup\n",
    "import time\n",
    "\n",
    "query1 = {\"email\": \"adams.susan@eduhub.com\"}\n",
    "print(\"[BEFORE] Email lookup explain:\")\n",
    "print(users_collection.find_one(query1))  # Sample\n",
    "print(users_collection.find(query1).explain()[\"queryPlanner\"][\"winningPlan\"])\n",
    "\n",
    "benchmark_query(\"User email lookup\", lambda: users_collection.find_one(query1))\n"
   ]
  },
  {
   "cell_type": "code",
   "execution_count": 133,
   "id": "da29bfa3",
   "metadata": {},
   "outputs": [
    {
     "name": "stdout",
     "output_type": "stream",
     "text": [
      "\n",
      "[BEFORE] Assignments due explain:\n",
      "{'isCached': False, 'stage': 'FETCH', 'inputStage': {'stage': 'IXSCAN', 'keyPattern': {'dueDate': 1}, 'indexName': 'idx_assignment_dueDate', 'isMultiKey': False, 'multiKeyPaths': {'dueDate': []}, 'isUnique': False, 'isSparse': False, 'isPartial': False, 'indexVersion': 2, 'direction': 'forward', 'indexBounds': {'dueDate': ['[new Date(1759418424717), new Date(1760023224717)]']}}}\n",
      "Assignments due in 7 days → 1.367 ms\n"
     ]
    },
    {
     "data": {
      "text/plain": [
       "[{'_id': ObjectId('68de2afede87aa09a1f6badc'),\n",
       "  'assignmentId': 'a_0004',\n",
       "  'dueDate': datetime.datetime(2025, 10, 3, 8, 34, 22, 751000),\n",
       "  'lessonId': 'lesson_335',\n",
       "  'courseId': 'PYT',\n",
       "  'description': 'Complete the assignment for JavaScript',\n",
       "  'grades': [{'studentId': 'user_1', 'grade': 79},\n",
       "   {'studentId': 'user_2', 'grade': 80},\n",
       "   {'studentId': 'user_3', 'grade': 51},\n",
       "   {'studentId': 'user_4', 'grade': 65},\n",
       "   {'studentId': 'user_5', 'grade': 70},\n",
       "   {'studentId': 'user_6', 'grade': 85},\n",
       "   {'studentId': 'user_7', 'grade': 90},\n",
       "   {'studentId': 'user_8', 'grade': 69},\n",
       "   {'studentId': 'user_9', 'grade': 60},\n",
       "   {'studentId': 'user_10', 'grade': 89},\n",
       "   {'studentId': 'user_11', 'grade': 85},\n",
       "   {'studentId': 'user_12', 'grade': 72},\n",
       "   {'studentId': 'user_13', 'grade': 67},\n",
       "   {'studentId': 'user_14', 'grade': 84},\n",
       "   {'studentId': 'user_15', 'grade': 78}]},\n",
       " {'_id': ObjectId('68de2afede87aa09a1f6badf'),\n",
       "  'assignmentId': 'a_0007',\n",
       "  'dueDate': datetime.datetime(2025, 10, 4, 8, 34, 22, 751000),\n",
       "  'lessonId': 'lesson_248',\n",
       "  'courseId': 'DVI',\n",
       "  'description': 'Complete the assignment for MongoDB',\n",
       "  'grades': [{'studentId': 'user_1', 'grade': 77},\n",
       "   {'studentId': 'user_2', 'grade': 72},\n",
       "   {'studentId': 'user_3', 'grade': 59},\n",
       "   {'studentId': 'user_4', 'grade': 87},\n",
       "   {'studentId': 'user_5', 'grade': 80},\n",
       "   {'studentId': 'user_6', 'grade': 76},\n",
       "   {'studentId': 'user_7', 'grade': 73},\n",
       "   {'studentId': 'user_8', 'grade': 99},\n",
       "   {'studentId': 'user_9', 'grade': 58},\n",
       "   {'studentId': 'user_10', 'grade': 61},\n",
       "   {'studentId': 'user_11', 'grade': 97},\n",
       "   {'studentId': 'user_12', 'grade': 60},\n",
       "   {'studentId': 'user_13', 'grade': 90},\n",
       "   {'studentId': 'user_14', 'grade': 68},\n",
       "   {'studentId': 'user_15', 'grade': 75}]},\n",
       " {'_id': ObjectId('68de2afede87aa09a1f6badb'),\n",
       "  'assignmentId': 'a_0003',\n",
       "  'dueDate': datetime.datetime(2025, 10, 6, 8, 34, 22, 751000),\n",
       "  'lessonId': 'lesson_483',\n",
       "  'courseId': 'JSC',\n",
       "  'description': 'Complete the assignment for Data Visualization',\n",
       "  'grades': [{'studentId': 'user_1', 'grade': 95},\n",
       "   {'studentId': 'user_2', 'grade': 78},\n",
       "   {'studentId': 'user_3', 'grade': 52},\n",
       "   {'studentId': 'user_4', 'grade': 53},\n",
       "   {'studentId': 'user_5', 'grade': 92},\n",
       "   {'studentId': 'user_6', 'grade': 76},\n",
       "   {'studentId': 'user_7', 'grade': 92},\n",
       "   {'studentId': 'user_8', 'grade': 77},\n",
       "   {'studentId': 'user_9', 'grade': 76},\n",
       "   {'studentId': 'user_10', 'grade': 94},\n",
       "   {'studentId': 'user_11', 'grade': 92},\n",
       "   {'studentId': 'user_12', 'grade': 54},\n",
       "   {'studentId': 'user_13', 'grade': 62},\n",
       "   {'studentId': 'user_14', 'grade': 72},\n",
       "   {'studentId': 'user_15', 'grade': 85}]},\n",
       " {'_id': ObjectId('68de2afede87aa09a1f6bad9'),\n",
       "  'assignmentId': 'a_0001',\n",
       "  'dueDate': datetime.datetime(2025, 10, 8, 8, 34, 22, 751000),\n",
       "  'lessonId': 'lesson_448',\n",
       "  'courseId': 'DEG',\n",
       "  'description': 'Complete the assignment for MongoDB',\n",
       "  'grades': [{'studentId': 'user_1', 'grade': 95},\n",
       "   {'studentId': 'user_2', 'grade': 70},\n",
       "   {'studentId': 'user_3', 'grade': 73},\n",
       "   {'studentId': 'user_4', 'grade': 80},\n",
       "   {'studentId': 'user_5', 'grade': 61},\n",
       "   {'studentId': 'user_6', 'grade': 67},\n",
       "   {'studentId': 'user_7', 'grade': 99},\n",
       "   {'studentId': 'user_8', 'grade': 57},\n",
       "   {'studentId': 'user_9', 'grade': 91},\n",
       "   {'studentId': 'user_10', 'grade': 96},\n",
       "   {'studentId': 'user_11', 'grade': 69},\n",
       "   {'studentId': 'user_12', 'grade': 54},\n",
       "   {'studentId': 'user_13', 'grade': 86},\n",
       "   {'studentId': 'user_14', 'grade': 75},\n",
       "   {'studentId': 'user_15', 'grade': 67}]},\n",
       " {'_id': ObjectId('68de2afede87aa09a1f6bae1'),\n",
       "  'assignmentId': 'a_0009',\n",
       "  'dueDate': datetime.datetime(2025, 10, 9, 8, 34, 22, 751000),\n",
       "  'lessonId': 'lesson_483',\n",
       "  'courseId': 'DVI',\n",
       "  'description': 'Complete the assignment for Data Engineering',\n",
       "  'grades': [{'studentId': 'user_1', 'grade': 86},\n",
       "   {'studentId': 'user_2', 'grade': 54},\n",
       "   {'studentId': 'user_3', 'grade': 62},\n",
       "   {'studentId': 'user_4', 'grade': 88},\n",
       "   {'studentId': 'user_5', 'grade': 60},\n",
       "   {'studentId': 'user_6', 'grade': 50},\n",
       "   {'studentId': 'user_7', 'grade': 74},\n",
       "   {'studentId': 'user_8', 'grade': 94},\n",
       "   {'studentId': 'user_9', 'grade': 68},\n",
       "   {'studentId': 'user_10', 'grade': 55},\n",
       "   {'studentId': 'user_11', 'grade': 87},\n",
       "   {'studentId': 'user_12', 'grade': 82},\n",
       "   {'studentId': 'user_13', 'grade': 74},\n",
       "   {'studentId': 'user_14', 'grade': 53},\n",
       "   {'studentId': 'user_15', 'grade': 75}]}]"
      ]
     },
     "execution_count": 133,
     "metadata": {},
     "output_type": "execute_result"
    }
   ],
   "source": [
    "#Assignments due in the next 7 days\n",
    "due_query = {\n",
    "    \"dueDate\": {\n",
    "        \"$gte\": datetime.now(),\n",
    "        \"$lte\": datetime.now() + timedelta(days=7)\n",
    "    }\n",
    "}\n",
    "print(\"\\n[BEFORE] Assignments due explain:\")\n",
    "print(assignments_collection.find(due_query).explain()[\"queryPlanner\"][\"winningPlan\"])\n",
    "\n",
    "benchmark_query(\"Assignments due in 7 days\", lambda: list(assignments_collection.find(due_query)))\n"
   ]
  },
  {
   "cell_type": "code",
   "execution_count": 134,
   "id": "d2ea1ac5",
   "metadata": {},
   "outputs": [
    {
     "name": "stdout",
     "output_type": "stream",
     "text": [
      "\n",
      "[BEFORE] Enrollment query explain:\n",
      "{'isCached': False, 'stage': 'FETCH', 'inputStage': {'stage': 'IXSCAN', 'keyPattern': {'studentId': 1, 'courseId': 1}, 'indexName': 'idx_enrollment_student_course', 'isMultiKey': False, 'multiKeyPaths': {'studentId': [], 'courseId': []}, 'isUnique': False, 'isSparse': False, 'isPartial': False, 'indexVersion': 2, 'direction': 'forward', 'indexBounds': {'studentId': ['[\"user_1\", \"user_1\"]'], 'courseId': ['[\"CSE101\", \"CSE101\"]']}}}\n",
      "Enrollment lookup → 4.081 ms\n"
     ]
    },
    {
     "data": {
      "text/plain": [
       "[]"
      ]
     },
     "execution_count": 134,
     "metadata": {},
     "output_type": "execute_result"
    }
   ],
   "source": [
    "#Enrollments by student and course\n",
    "enrollment_query = {\"studentId\": \"user_1\", \"courseId\": \"CSE101\"}\n",
    "print(\"\\n[BEFORE] Enrollment query explain:\")\n",
    "print(enrollments_collection.find(enrollment_query).explain()[\"queryPlanner\"][\"winningPlan\"])\n",
    "\n",
    "benchmark_query(\"Enrollment lookup\", lambda: list(enrollments_collection.find(enrollment_query)))\n"
   ]
  },
  {
   "cell_type": "code",
   "execution_count": 135,
   "metadata": {},
   "outputs": [
    {
     "data": {
      "text/plain": [
       "'idx_enrollment_student_course'"
      ]
     },
     "execution_count": 135,
     "metadata": {},
     "output_type": "execute_result"
    }
   ],
   "source": [
    "#Step 3: Create Optimized Indexes\n",
    "# 1. Users - unique email lookup\n",
    "users_collection.create_index([(\"email\", 1)], unique=True, name=\"idx_user_email\")\n",
    "\n",
    "# 2. Assignments - query by due date\n",
    "assignments_collection.create_index([(\"dueDate\", 1)], name=\"idx_assignment_dueDate\")\n",
    "\n",
    "# 3. Enrollments - compound index for student & course\n",
    "enrollments_collection.create_index([(\"studentId\", 1), (\"courseId\", 1)], name=\"idx_enrollment_student_course\")\n"
   ]
  },
  {
   "cell_type": "code",
   "execution_count": 136,
   "id": "57a790a2",
   "metadata": {},
   "outputs": [
    {
     "name": "stdout",
     "output_type": "stream",
     "text": [
      "User email lookup (AFTER) → 3.006 ms\n",
      "Assignments due in 7 days (AFTER) → 1.805 ms\n",
      "Enrollment lookup (AFTER) → 1.244 ms\n"
     ]
    },
    {
     "data": {
      "text/plain": [
       "[]"
      ]
     },
     "execution_count": 136,
     "metadata": {},
     "output_type": "execute_result"
    }
   ],
   "source": [
    "#Benchmark After Optimization\n",
    "# User email lookup\n",
    "benchmark_query(\"User email lookup (AFTER)\", lambda: users_collection.find_one(query1))\n",
    "\n",
    "# Assignments due query\n",
    "benchmark_query(\"Assignments due in 7 days (AFTER)\", lambda: list(assignments_collection.find(due_query)))\n",
    "\n",
    "# Enrollment query\n",
    "benchmark_query(\"Enrollment lookup (AFTER)\", lambda: list(enrollments_collection.find(enrollment_query)))\n"
   ]
  },
  {
   "cell_type": "code",
   "execution_count": null,
   "metadata": {},
   "outputs": [],
   "source": []
  },
  {
   "cell_type": "markdown",
   "id": "678807fc",
   "metadata": {},
   "source": [
    "Task 6.1: Schema Validation\n",
    "\n",
    "Implement validation rules for:\n",
    "\n",
    "    Required fields\n",
    "    Data type validation\n",
    "    Enum value restrictions\n",
    "    Email format validation\n",
    "\n"
   ]
  },
  {
   "cell_type": "code",
   "execution_count": 138,
   "id": "6a0a5810",
   "metadata": {},
   "outputs": [
    {
     "data": {
      "text/plain": [
       "{'ok': 1.0}"
      ]
     },
     "execution_count": 138,
     "metadata": {},
     "output_type": "execute_result"
    }
   ],
   "source": [
    "#users Collection Validation\n",
    "db.command({\n",
    "    \"collMod\": \"users\",\n",
    "    \"validator\": {\n",
    "        \"$jsonSchema\": {\n",
    "            \"bsonType\": \"object\",\n",
    "            \"required\": [\"firstname\", \"lastname\", \"email\", \"role\", \"password\"],\n",
    "            \"properties\": {\n",
    "                \"firstname\": {\"bsonType\": \"string\"},\n",
    "                \"lastname\": {\"bsonType\": \"string\"},\n",
    "                \"email\": {\n",
    "                    \"bsonType\": \"string\",\n",
    "                    \"pattern\": \"^[^@\\\\s]+@[^@\\\\s]+\\\\.[^@\\\\s]+$\",  # Email format validation\n",
    "                    \"description\": \"Must be a valid email address\"\n",
    "                },\n",
    "                \"role\": {\n",
    "                    \"enum\": [\"student\", \"instructor\", \"admin\"],  # Enum restriction\n",
    "                    \"description\": \"Role must be one of: student, instructor, admin\"\n",
    "                },\n",
    "                \"password\": {\"bsonType\": \"string\"}\n",
    "            }\n",
    "        }\n",
    "    },\n",
    "    \"validationLevel\": \"strict\"\n",
    "})"
   ]
  },
  {
   "cell_type": "code",
   "execution_count": 139,
   "id": "edc937fd",
   "metadata": {},
   "outputs": [
    {
     "data": {
      "text/plain": [
       "{'ok': 1.0}"
      ]
     },
     "execution_count": 139,
     "metadata": {},
     "output_type": "execute_result"
    }
   ],
   "source": [
    "# courses Collection Validation\n",
    "db.command({\n",
    "    \"collMod\": \"courses\",\n",
    "    \"validator\": {\n",
    "        \"$jsonSchema\": {\n",
    "            \"bsonType\": \"object\",\n",
    "            \"required\": [\"title\", \"category\", \"instructorId\"],\n",
    "            \"properties\": {\n",
    "                \"title\": {\"bsonType\": \"string\"},\n",
    "                \"category\": {\n",
    "                    \"enum\": [\"Science\", \"Technology\", \"Engineering\", \"Mathematics\", \"Arts\"],\n",
    "                    \"description\": \"Category must be one of predefined values\"\n",
    "                },\n",
    "                \"instructorId\": {\"bsonType\": \"string\"}\n",
    "            }\n",
    "        }\n",
    "    },\n",
    "    \"validationLevel\": \"strict\"\n",
    "})\n"
   ]
  },
  {
   "cell_type": "code",
   "execution_count": 140,
   "id": "88b2948b",
   "metadata": {},
   "outputs": [
    {
     "data": {
      "text/plain": [
       "{'ok': 1.0}"
      ]
     },
     "execution_count": 140,
     "metadata": {},
     "output_type": "execute_result"
    }
   ],
   "source": [
    "#assignment collection validation \n",
    "db.command({\n",
    "    \"collMod\": \"assignments\",\n",
    "    \"validator\": {\n",
    "        \"$jsonSchema\": {\n",
    "            \"bsonType\": \"object\",\n",
    "            \"required\": [\"title\", \"courseId\", \"dueDate\"],\n",
    "            \"properties\": {\n",
    "                \"title\": {\"bsonType\": \"string\"},\n",
    "                \"courseId\": {\"bsonType\": \"string\"},\n",
    "                \"dueDate\": {\"bsonType\": \"date\"}\n",
    "            }\n",
    "        }\n",
    "    },\n",
    "    \"validationLevel\": \"strict\"\n",
    "})\n"
   ]
  },
  {
   "cell_type": "code",
   "execution_count": 141,
   "id": "e938a234",
   "metadata": {},
   "outputs": [
    {
     "data": {
      "text/plain": [
       "{'ok': 1.0}"
      ]
     },
     "execution_count": 141,
     "metadata": {},
     "output_type": "execute_result"
    }
   ],
   "source": [
    "#enrollments collection validation\n",
    "db.command({\n",
    "    \"collMod\": \"enrollments\",\n",
    "    \"validator\": {\n",
    "        \"$jsonSchema\": {\n",
    "            \"bsonType\": \"object\",\n",
    "            \"required\": [\"studentId\", \"courseId\", \"enrolledAt\"],\n",
    "            \"properties\": {\n",
    "                \"studentId\": {\"bsonType\": \"string\"},\n",
    "                \"courseId\": {\"bsonType\": \"string\"},\n",
    "                \"enrolledAt\": {\"bsonType\": \"date\"}\n",
    "            }\n",
    "        }\n",
    "    },\n",
    "    \"validationLevel\": \"strict\"\n",
    "})\n"
   ]
  },
  {
   "cell_type": "markdown",
   "id": "122bec70",
   "metadata": {},
   "source": [
    "Task 6.2: Error Handling\n",
    "\n",
    "Write queries that handle common errors:\n",
    "\n",
    "    Duplicate key errors\n",
    "    Invalid data type insertions\n",
    "    Missing required fields\n"
   ]
  },
  {
   "cell_type": "code",
   "execution_count": null,
   "id": "986d2723",
   "metadata": {},
   "outputs": [],
   "source": []
  },
  {
   "cell_type": "markdown",
   "id": "1350949d",
   "metadata": {},
   "source": [
    "Bonus Challenges (Extra Credit)\n",
    "\n",
    "    Create a recommendation system using aggregation\n",
    "    Design a data archiving strategy for old enrollments\n",
    "   \n"
   ]
  },
  {
   "cell_type": "code",
   "execution_count": 12,
   "id": "4e29cc25",
   "metadata": {},
   "outputs": [
    {
     "name": "stdout",
     "output_type": "stream",
     "text": [
      "\n",
      "Recommended courses for user_1:\n",
      "\n",
      "DAS Data Analysis 5\n",
      "PYT Python 3\n",
      "JSC JavaScript 3\n",
      "EXL MongoDB 2\n",
      "DVI Data Visualization 1\n"
     ]
    }
   ],
   "source": [
    "#create a recommendation system using aggregation framework\n",
    "\n",
    "enrollments_collection = db[\"enrollments\"]\n",
    "\n",
    "def recommend_for_student(student_id, limit=10):\n",
    "    pipeline = [\n",
    "        # 1. Find courses this student is enrolled in\n",
    "        {\"$match\": {\"studentId\": student_id}},\n",
    "        {\"$group\": {\"_id\": None, \"enrolledCourseIds\": {\"$addToSet\": \"$courseId\"}}},\n",
    "        \n",
    "        # 2. Lookup course docs to get tags and categories\n",
    "        {\"$lookup\": {\n",
    "            \"from\": \"courses\",\n",
    "            \"localField\": \"enrolledCourseIds\",\n",
    "            \"foreignField\": \"courseId\",\n",
    "            \"as\": \"enrolledCourses\"\n",
    "        }},\n",
    "        {\"$project\": {\n",
    "            \"enrolledCourseIds\": 1,\n",
    "            \"enrolledTags\": {\"$reduce\": {\n",
    "                \"input\": \"$enrolledCourses.tags\",\n",
    "                \"initialValue\": [],\n",
    "                \"in\": {\"$setUnion\": [\"$$value\", \"$$this\"]}\n",
    "            }},\n",
    "            \"enrolledCategories\": {\"$map\": {\"input\": \"$enrolledCourses\",\"as\":\"c\",\"in\":\"$$c.category\"}},\n",
    "            \"enrolledCourseIds\": 1\n",
    "        }},\n",
    "\n",
    "        # 3. Find candidate courses (exclude already enrolled)\n",
    "        {\"$lookup\": {\n",
    "            \"from\": \"courses\",\n",
    "            \"pipeline\": [\n",
    "                {\"$match\": {}},\n",
    "                {\"$project\": {\"courseId\": 1, \"title\":1, \"tags\":1, \"category\":1, \"price\":1}}\n",
    "            ],\n",
    "            \"as\": \"allCourses\"\n",
    "        }},\n",
    "        {\"$unwind\": \"$allCourses\"},\n",
    "\n",
    "        # 4. Filter out already enrolled courses\n",
    "        {\"$match\": {\"$expr\": {\"$not\": {\"$in\": [\"$allCourses.courseId\", \"$enrolledCourseIds\"]}}}},\n",
    "\n",
    "        # 5. Score candidates:\n",
    "        #    tagOverlap = size(intersection(enrolledTags, candidate.tags))\n",
    "        #    categoryBonus = candidate.category in enrolledCategories ? 1 : 0\n",
    "        #    popularityBonus = enrollments count for candidate (we'll join the enrollments_collection)\n",
    "        {\"$lookup\": {\n",
    "            \"from\": \"enrollments\",\n",
    "            \"localField\": \"allCourses.courseId\",\n",
    "            \"foreignField\": \"courseId\",\n",
    "            \"as\": \"candidate_enrollments\"\n",
    "        }},\n",
    "        {\"$addFields\": {\n",
    "            \"tagOverlap\": {\"$size\": {\"$setIntersection\": [\"$enrolledTags\", \"$allCourses.tags\"]}},\n",
    "            \"categoryMatch\": {\"$cond\": [{\"$in\": [\"$allCourses.category\", \"$enrolledCategories\"]}, 1, 0]},\n",
    "            \"popularity\": {\"$size\": \"$candidate_enrollments\"},\n",
    "            \"candidateCourse\": \"$allCourses\"\n",
    "        }},\n",
    "        \n",
    "        # 6. Compute a combined score (weights can be tuned)\n",
    "        {\"$addFields\": {\n",
    "            \"score\": {\n",
    "                \"$add\": [\n",
    "                    {\"$multiply\": [\"$tagOverlap\", 3]},       # strong weight for tag overlap\n",
    "                    {\"$multiply\": [\"$categoryMatch\", 2]},    # moderate for same category\n",
    "                    {\"$multiply\": [\"$popularity\", 0.5]}      # smaller weight for popularity\n",
    "                ]\n",
    "            }\n",
    "        }},\n",
    "\n",
    "        # 7. Group back to list and sort by score\n",
    "        {\"$replaceRoot\": {\"newRoot\": \"$candidateCourse\"}},\n",
    "        {\"$lookup\": {\"from\":\"enrollments\",\"localField\":\"courseId\",\"foreignField\":\"courseId\",\"as\":\"_enr\"}},\n",
    "        {\"$addFields\": {\"popularity\": {\"$size\":\"$_enr\"}}},\n",
    "        {\"$sort\": {\"score\": -1, \"popularity\": -1}},\n",
    "        {\"$limit\": limit}\n",
    "    ]\n",
    "\n",
    "    # Start pipeline with a \"virtual\" enrollments collection for the student\n",
    "    # First stage expects the enrollments for that student, so we run pipeline by injecting initial pipeline:\n",
    "    student_enrollments = list(enrollments_collection.find({\"studentId\": student_id}, {\"courseId\":1}))\n",
    "    if not student_enrollments:\n",
    "        # fallback: recommend globally popular courses\n",
    "        return list(courses_collection.aggregate([\n",
    "            {\"$lookup\":{\"from\":\"enrollments\",\"localField\":\"courseId\",\"foreignField\":\"courseId\",\"as\":\"_enr\"}},\n",
    "            {\"$addFields\":{\"popularity\":{\"$size\":\"$_enr\"}}},\n",
    "            {\"$sort\":{\"popularity\": -1}},\n",
    "            {\"$limit\": limit}\n",
    "        ]))\n",
    "    # run main pipeline with a $facet-like approach by starting pipeline with a $documents stage:\n",
    "    docs = [{\"studentId\": student_id, \"courseId\": e[\"courseId\"]} for e in student_enrollments]\n",
    "    # use aggregate with $documents (MongoDB 4.4+). If $documents not available, fallback to a smaller custom approach.\n",
    "    return list(enrollments_collection.aggregate([{\"$replaceRoot\": {\"newRoot\": {\"enrollments\": docs}}}] + pipeline))\n",
    "\n",
    "# Example usage:\n",
    "recs = recommend_for_student(\"user_1\", limit=5)\n",
    "print(\"\\nRecommended courses for user_1:\\n\")\n",
    "for c in recs:\n",
    "    print(c[\"courseId\"], c[\"title\"], c.get(\"popularity\"))\n"
   ]
  },
  {
   "cell_type": "code",
   "execution_count": 14,
   "id": "c42f89df",
   "metadata": {},
   "outputs": [
    {
     "name": "stdout",
     "output_type": "stream",
     "text": [
      "Total archived: 0\n"
     ]
    }
   ],
   "source": [
    "# Design a data archiving strategy for old enrollments\n",
    "\n",
    "from datetime import datetime, timedelta\n",
    "from pymongo import WriteConcern\n",
    "from pymongo.errors import BulkWriteError\n",
    "\n",
    "RETENTION_YEARS = 2\n",
    "batch_size = 1000\n",
    "\n",
    "cutoff = datetime.now() - timedelta(days=RETENTION_YEARS * 365)\n",
    "query = {\"startDate\": {\"$lte\": cutoff}}  # or \"endDate\" depending on your data\n",
    "\n",
    "def archive_old_enrollments():\n",
    "    total_archived = 0\n",
    "    while True:\n",
    "        docs = list(enrollments_collection.find(query).limit(batch_size))\n",
    "        if not docs:\n",
    "            break\n",
    "        # prepare docs for archive\n",
    "        for d in docs:\n",
    "            d[\"_archivedAt\"] = datetime.now()\n",
    "        # insert into archive collection\n",
    "        try:\n",
    "            enrollments_archive_collection.insert_many(docs, ordered=False)\n",
    "        except BulkWriteError as bwe:\n",
    "            # handle duplicates or errors\n",
    "            print(\"BulkWriteError:\", bwe.details)\n",
    "        # delete from original\n",
    "        ids = [d[\"_id\"] for d in docs]\n",
    "        res = enrollments_collection.delete_many({\"_id\": {\"$in\": ids}})\n",
    "        total_archived += res.deleted_count\n",
    "        print(f\"Archived batch of {res.deleted_count} enrollments\")\n",
    "    print(f\"Total archived: {total_archived}\")\n",
    "\n",
    "# run the job\n",
    "archive_old_enrollments()\n"
   ]
  },
  {
   "cell_type": "code",
   "execution_count": 8,
   "id": "ccfc68e0",
   "metadata": {},
   "outputs": [
    {
     "data": {
      "text/plain": [
       "UpdateResult({'n': 25, 'nModified': 25, 'ok': 1.0, 'updatedExisting': True}, acknowledged=True)"
      ]
     },
     "execution_count": 8,
     "metadata": {},
     "output_type": "execute_result"
    }
   ],
   "source": [
    "#adding resource field to the lessons_collection\n",
    "\n",
    "from pymongo import MongoClient\n",
    "\n",
    "# Connect to MongoDB\n",
    "client = MongoClient(\"mongodb://localhost:27017/\")\n",
    "db = client[\"EduHub\"]\n",
    "lessons_collection = db[\"lessons\"]\n",
    "\n",
    "# Update one lesson by ID\n",
    "lessons_collection.update_many(\n",
    "    {},   # empty filter → all documents\n",
    "    {\"$set\": {\n",
    "        \"resources\": [\n",
    "            { \"type\": \"video\", \"url\": \"https://example.com/default_video.mp4\" },\n",
    "            { \"type\": \"pdf\", \"url\": \"https://example.com/default_doc.pdf\" }\n",
    "        ]\n",
    "    }}\n",
    ")\n",
    "\n"
   ]
  },
  {
   "cell_type": "code",
   "execution_count": 9,
   "id": "3baa0701",
   "metadata": {},
   "outputs": [
    {
     "data": {
      "text/plain": [
       "UpdateResult({'n': 12, 'nModified': 12, 'ok': 1.0, 'updatedExisting': True}, acknowledged=True)"
      ]
     },
     "execution_count": 9,
     "metadata": {},
     "output_type": "execute_result"
    }
   ],
   "source": [
    "#adding fileUrl field to the submissions_collection for submission link. \n",
    "\n",
    "from pymongo import MongoClient\n",
    "\n",
    "# Connect to MongoDB\n",
    "client = MongoClient(\"mongodb://localhost:27017/\")\n",
    "db = client[\"EduHub\"]\n",
    "submissions_collection = db[\"submissions\"]\n",
    "\n",
    "# Update one lesson by ID\n",
    "submissions_collection.update_many(\n",
    "    {},   # empty filter → all documents\n",
    "    {\"$set\": {\n",
    "        \"fileUrl\": \"https://example.com/uploads/user1_project.zip\",\n",
    "    }}\n",
    ")\n"
   ]
  },
  {
   "cell_type": "code",
   "execution_count": null,
   "id": "f9af0d38",
   "metadata": {},
   "outputs": [],
   "source": []
  }
 ],
 "metadata": {
  "kernelspec": {
   "display_name": ".venv",
   "language": "python",
   "name": "python3"
  },
  "language_info": {
   "codemirror_mode": {
    "name": "ipython",
    "version": 3
   },
   "file_extension": ".py",
   "mimetype": "text/x-python",
   "name": "python",
   "nbconvert_exporter": "python",
   "pygments_lexer": "ipython3",
   "version": "3.12.3"
  }
 },
 "nbformat": 4,
 "nbformat_minor": 5
}
